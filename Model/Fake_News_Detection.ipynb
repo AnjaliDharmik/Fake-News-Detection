{
  "nbformat": 4,
  "nbformat_minor": 0,
  "metadata": {
    "colab": {
      "provenance": [],
      "collapsed_sections": [
        "b8opDVzM-rnx"
      ]
    },
    "kernelspec": {
      "name": "python3",
      "display_name": "Python 3"
    },
    "language_info": {
      "name": "python"
    }
  },
  "cells": [
    {
      "cell_type": "markdown",
      "source": [
        "# Fake News Detection\n",
        "\n"
      ],
      "metadata": {
        "id": "W5tAGYSZ4VMo"
      }
    },
    {
      "cell_type": "markdown",
      "source": [
        "In an era of rapid digital information spread distinguishing real from fake news is challenging. The Fake News Detection Dataset helps researchers and data scientists train models for accurate fake news detection."
      ],
      "metadata": {
        "id": "Wa4dBk6sXzRy"
      }
    },
    {
      "cell_type": "markdown",
      "source": [
        "# SetUp"
      ],
      "metadata": {
        "id": "XVZQl2K34ajh"
      }
    },
    {
      "cell_type": "code",
      "source": [
        "import matplotlib.pyplot as plt\n",
        "import os\n",
        "import re\n",
        "import random\n",
        "import numpy as np\n",
        "import shutil\n",
        "import string\n",
        "import tensorflow as tf\n",
        "\n",
        "from tensorflow.keras import layers\n",
        "from tensorflow.keras import losses\n",
        "\n",
        "import numpy as np\n",
        "from sklearn.feature_extraction.text import TfidfVectorizer\n",
        "from sklearn.model_selection import train_test_split\n",
        "\n",
        "print(tf.__version__)"
      ],
      "metadata": {
        "id": "Cuv5sc07VhhF",
        "colab": {
          "base_uri": "https://localhost:8080/"
        },
        "outputId": "dff3e022-3d48-4744-dfb5-2f1bb4e80c92"
      },
      "execution_count": 1,
      "outputs": [
        {
          "output_type": "stream",
          "name": "stdout",
          "text": [
            "2.18.0\n"
          ]
        }
      ]
    },
    {
      "cell_type": "markdown",
      "source": [
        "# Explore the Data\n",
        "\n"
      ],
      "metadata": {
        "id": "fQ-7v9Y59ZA4"
      }
    },
    {
      "cell_type": "markdown",
      "source": [
        "## Upzip data"
      ],
      "metadata": {
        "id": "-OduxHig8qsb"
      }
    },
    {
      "cell_type": "code",
      "source": [
        "# Assuming your data is in the current working directory\n",
        "data_path = \"fake_and_real_news.zip\"\n",
        "\n",
        "# Check if the file exists\n",
        "if not os.path.exists(data_path):\n",
        "    raise FileNotFoundError(f\"File not found: {data_path}. Please download the data and place it in the current working directory.\")\n",
        "\n",
        "# If the file exists, proceed to extract it\n",
        "# Instead of using tf.keras.utils.get_file, use zipfile to extract the data\n",
        "import zipfile\n",
        "\n",
        "with zipfile.ZipFile(data_path, 'r') as zip_ref:\n",
        "    zip_ref.extractall('fake_and_real_news') # Extract to the current working directory"
      ],
      "metadata": {
        "id": "YJOpU-i68vYK"
      },
      "execution_count": 2,
      "outputs": []
    },
    {
      "cell_type": "markdown",
      "source": [
        "## Load Data"
      ],
      "metadata": {
        "id": "HgWt7zlx5fHn"
      }
    },
    {
      "cell_type": "markdown",
      "source": [
        "```\n",
        "fake_and_real_news/\n",
        "...Fake/\n",
        "......news_article_1.txt\n",
        "......news_article_2.txt\n",
        "...Real/\n",
        "......news_article_1.txt\n",
        "......news_article_2.txt\n",
        "```\n",
        "\n"
      ],
      "metadata": {
        "id": "wQdIYMdAYR2e"
      }
    },
    {
      "cell_type": "code",
      "source": [
        "# batch_size = 32\n",
        "seed = 42"
      ],
      "metadata": {
        "id": "gIW1VbXO8-Qb"
      },
      "execution_count": 3,
      "outputs": []
    },
    {
      "cell_type": "code",
      "source": [
        "# First split: Train (70%) and Temp (30% for val & test)\n",
        "train_ds = tf.keras.utils.text_dataset_from_directory(\n",
        "    'fake_and_real_news',\n",
        "    labels='inferred',\n",
        "    label_mode='int',\n",
        "    batch_size=None,\n",
        "    shuffle=True,\n",
        "    seed=seed,\n",
        "    validation_split=0.3,\n",
        "    subset='training'\n",
        ")\n",
        "\n",
        "raw_val_test_ds = tf.keras.utils.text_dataset_from_directory(\n",
        "    'fake_and_real_news',\n",
        "    labels='inferred',\n",
        "    label_mode='int',\n",
        "    batch_size=None,\n",
        "    shuffle=True,\n",
        "    seed=seed,\n",
        "    validation_split=0.3,\n",
        "    subset='validation'\n",
        ")\n",
        "\n",
        "# Second split: Val (20%) and Test (10%)\n",
        "val_size = int(0.67 * len(raw_val_test_ds))  # 67% of 30% = 20%\n",
        "test_size = len(raw_val_test_ds) - val_size  # Remaining 10%\n",
        "\n",
        "val_ds = raw_val_test_ds.take(val_size)\n",
        "test_ds = raw_val_test_ds.skip(val_size)\n",
        "\n",
        "# Print dataset sizes\n",
        "print('\\n')\n",
        "print(f\"Train size: {len(train_ds)}\")\n",
        "print(f\"Validation size: {len(val_ds)}\")\n",
        "print(f\"Test size: {len(test_ds)}\")\n"
      ],
      "metadata": {
        "colab": {
          "base_uri": "https://localhost:8080/"
        },
        "id": "vDxePsETZEBv",
        "outputId": "99fdb156-eaff-4d4e-d535-cad4a9b91ddd"
      },
      "execution_count": 4,
      "outputs": [
        {
          "output_type": "stream",
          "name": "stdout",
          "text": [
            "Found 9900 files belonging to 2 classes.\n",
            "Using 6930 files for training.\n",
            "Found 9900 files belonging to 2 classes.\n",
            "Using 2970 files for validation.\n",
            "\n",
            "\n",
            "Train size: 6930\n",
            "Validation size: 1989\n",
            "Test size: 981\n"
          ]
        }
      ]
    },
    {
      "cell_type": "markdown",
      "source": [
        "## Check the Data"
      ],
      "metadata": {
        "id": "2yfUBClL9REX"
      }
    },
    {
      "cell_type": "code",
      "source": [
        "for text_batch, label_batch in train_ds.take(5):\n",
        "  print(\"Article\", text_batch.numpy())\n",
        "  print(\"Label\", label_batch.numpy())"
      ],
      "metadata": {
        "colab": {
          "base_uri": "https://localhost:8080/"
        },
        "id": "xwnjzVQ8aZFp",
        "outputId": "98ef410a-9b06-46e3-b272-74d34e8f4fd2"
      },
      "execution_count": 5,
      "outputs": [
        {
          "output_type": "stream",
          "name": "stdout",
          "text": [
            "Article b' Hawaii Attorney General HUMILIATES Jeff Sessions For Whining About Judge On \\xe2\\x80\\x98Island In The Pacific\\xe2\\x80\\x99 Donald Trump s Attorney General just got schooled on the Constitution.Earlier this week, Jeff Sessions bitched about a judge  on an island in the Pacific  having the power to block an executive order. I really am amazed that a judge sitting on an island in the Pacific can issue an order that stops the President of the United States from what appears to be clearly his statutory and constitutional power,  Sessions said.Of course, Sessions is a hypocrite because he cheered on judges who blocked executive orders issued by President Obama.But because the order was issued by his rich white boss, Sessions is all of a sudden complaining.Judge Derrick Watson stood up to Trump and his racist administration a couple months ago by blocking parts of the immigration ban that barred Muslims from certain nations from entering the country. Trump s ban caused international chaos and violated the civil rights of thousands.Hawaii is not merely an  island in the Pacific,  however. It s also an official state under the same Constitution that Jeff Sessions and Donald Trump violate on a daily basis.In the Constitution, the founding fathers created the Judicial Branch of our government to serve as a check on executive and legislative power. The judiciary has the power to review executive orders and laws and can block and strike them down if they are found to be unconstitutional.Judge Watson exercised his judicial power.Sessions  statement is a disgraceful attempt to undermine the judicial branch.Hawaii Attorney General Dougal Chin fired back at Sessions on Thursday by explaining how the Constitution works. President Trump previously called a federal judge in California a so-called judge. Now U.S. Attorney General Sessions appears to dismiss a federal judge in Hawaii as just a judge sitting on an island in the Pacific. Our Constitution created a separation of powers in the United States for a reason. Our federal courts, established under Article III of the Constitution, are co-equal partners with Congress and the President. It is disappointing Sessions does not acknowledge that. Indeed, America needs an Attorney General who actually understands the Constitution, and Sessions clearly does not.One of Sessions  Justice Department lackeys even tried to pathetically clarify the offensive remarks. Hawaii is, in fact, an island in the Pacific a beautiful one where the Attorney General s granddaughter was born. The point, however, is that there is a problem when a flawed opinion by a single judge can block the President s lawful exercise of authority to keep the entire country safe. Wrong. If Trump and his administration think the ruling is flawed then they should seek opinions from higher courts. That s how the system works. The White House and Justice Department can t just ignore a court ruling because they disagree with it. Also, national security should not be used as an excuse to ignore the Constitution. That s a slippery slope to tyranny. If that excuse were acceptable Trump and Sessions would use it all the time to justify anything and everything they do.Jeff Sessions should be embarrassed for attacking the judicial branch the way he did and he definitely deserved the humiliation he has been receiving. Frankly, he should resign in disgrace.Featured Image: Chip Somodevilla/Getty Images\\tFake'\n",
            "Label 0\n",
            "Article b' Numbers Prove Trump A Liar: RECORD Job Growth Will Be The Legacy Of Obama Administration (DETAILS) Barack Obama has been accused again and again of ruining the economy but where s the proof? Oh wait, there is none because he s done the exact opposite of that. In fact, president Obama has broken records by creating jobs.According to the majority of Republicans, Obama has done just about nothing right. He gets zero credit for the good things he s done and all the credit for anything that goes slightly wrong. Well, that has to change. Obama has done everything he can for America and is still doing so. Obama is currently on a 78 month long streak of creating jobs. In those 78 months he s created over 15.1 MILLION jobs. That s more than any other president in history.On the off chance that a republican president had managed something like this, they would be receiving plenty of praise. In fact Jesse Lee tweeted a rather accurate remark on that:In alt universe where Romney won, these #s would be getting chiseled under his face on Mount Rushmore as we speak. https://t.co/7prryK5nPF  Jesse Lee (@jesseclee44) September 2, 2016It s ridiculous how poorly Obama has been treated since he s been in office. He s worked harder than president-elect Donald Trump ever will, and has made so much progress for this country. Yet all he has received is criticism and sarcastic remarks:  thanks Obama.  Well it s time for us to start saying thank you to Obama, and mean it.Featured Image via Getty Images\\tFake'\n",
            "Label 0\n",
            "Article b' Ivanka Trump Tweets About Dead Syrian Children, And Twitter Has The PERFECT Response (TWEETS) Ivanka Trump s father, the man who calls himself President of the United States, obviously follows world events even if it seems like he follows them so he can exploit them. His children, Ivanka included, tend to either follow him or walk in lockstep with him on virtually everything. While there s absolutely nothing wrong with expressing grief over Syria s president, Bahsar al-Assad s decision to murder innocent people including children, there are times when the irony of such expression is just too much to handle.Ivanka tweeted the following anger and dismay over Assad s gas attack on his own people earlier this week:Heartbroken and outraged by the images coming out of Syria following the atrocious chemical attack yesterday.  Ivanka Trump (@IvankaTrump) April 5, 2017One man had the wherewithal to point out the horrific irony in that outrage:Wait until you find out that your Dad signed an executive order banning those same people from entering the United States https://t.co/7JHPCmJ8NF  Michael Cohen (@speechboy71) April 6, 2017We d be in a far better position to justify total outrage over this if we d been behaving in a humanitarian manner towards Syria in the first place. We, or rather, Trump, haven t been. At the same time Trump is lamenting children who died at the hands of a brutal dictator, he s prohibiting those same children from coming to the U.S. because of some misguided fear about a  Trojan horse  of terrorism.Others are less-than impressed with her tweet too, in light of her father s attitude towards refugees. Considering we may have just made more refugees, the hypocrisy stands out in starker relief than ever:@speechboy71 @kimchi1380 She doesn t care. Refugees can t afford to buy her clothes  Virginia Bourne (@Southviabirth) April 6, 2017@speechboy71 @rohaniroop @IvankaTrump Ivanka had to say something she didn t want to look complicit.  Lauren Krajenta (@Hitandmisses4) April 6, 2017@speechboy71 But she doesn t know what #Complicit means. #SyriaGasAttack @IvankaTrump  Suzy Howell (@howellsuzy) April 6, 2017@IvankaTrump Fuck you  Sean T. Collins ? (@theseantcollins) April 5, 2017@IvankaTrump Gonna blame Obama too?  Alt. Sean Spicer (@AltUSPressSec) April 5, 2017@IvankaTrump You do realize it s YOUR policy that let this happen. This kind of statement is the definition of complicit. #trumprussia #holdthefloor  Scott Dworkin (@funder) April 5, 2017@Frankatrinastei @Alisonnj @IvankaTrump Has she held a job that daddy DIDN T give her?  Chris Beasley (@logan48227) April 5, 2017@speechboy71 @MalcolmNance @IvankaTrump What the hell do you or ur father care about those poor refugee? U ban refugees fleeing for their lives! Your words are empty!  tula holmes (@tulaholmes) April 6, 2017@speechboy71 @JoyAnnReid How many of those women, children, and babies could have been saved if allowed refuge in the US and their allies?  Deborah Carmody (@smokerisesOH) April 6, 2017@speechboy71 @JoyAnnReid @IvankaTrump If you didn t fight against Daddy s refugee ban or Jr s poison skittles comment, you are #Complicit  friedpearl (@friedpearl) April 6, 2017@speechboy71 @007kzman Oh, no. She s just heartbroken enough as long as they re not here. If they are here, she s less than enthused.  Imagine This (@HeyThatsMyPen) April 6, 2017@speechboy71 @IvankaTrump Hey, Ivanka, if you re so concerned, are you going to expedite refugee visas for these poor kids?? Betcha don t.  V. Williams (@gecko46) April 6, 2017Unless she openly stands up to her father when he makes things harder for people like Syrian refugees everyone s right. She has a chance to have some real influence for good and she s squandering it this way.Featured image by Win McNamee via Getty Images\\tFake'\n",
            "Label 0\n",
            "Article b\"Republicans voice growing doubts on U.S. healthcare bill's fate WASHINGTON (Reuters) - Republicans expressed increasing pessimism on Sunday about the prospects for the healthcare bill in the U.S. Senate aimed at rolling back Obamacare as lawmakers prepared to return from a week-long recess. One prominent Republican lawmaker, Senator John McCain, said he thought the Republican bill would probably fail. \\xe2\\x80\\x9cMy view is that it\\xe2\\x80\\x99s probably going to be dead,\\xe2\\x80\\x9d McCain,  said on the CBS program \\xe2\\x80\\x9cFace the Nation,\\xe2\\x80\\x9d adding that Republicans, who narrowly control the chamber, would likely need to work with Democrats on a healthcare bill. President Donald Trump took to Twitter on Sunday to put pressure on Republicans to stay the course. \\xe2\\x80\\x9cFor years, even as a \\xe2\\x80\\x9ccivilian,\\xe2\\x80\\x9d I listened as Republicans pushed the Repeal and Replace of ObamaCare. Now they finally have their chance!\\xe2\\x80\\x9d he tweeted.  The Senate bill, which faces unified Democratic opposition, has been further imperiled during the recess, when Republican senators have had to return to their states and face constituents strongly opposed to the measure. Senators return to Washington on Monday. The Senate bill keeps intact much of the 2010 Affordable Care Act, former Democratic President Barack Obama\\xe2\\x80\\x99s signature legislation, popularly known as Obamacare, but strips away most of its funding. It repeals most Obamacare taxes, overhauls the law\\xe2\\x80\\x99s tax credits and ends its Medicaid expansion. It also goes beyond repealing Obamacare by cutting funding for the Medicaid program for the poor and disabled beginning in 2025. At least 10 Republican senators have opposed the bill in its current form, but many more have criticized the legislation or said they are undecided. Republican Senator Bill Cassidy said on Sunday the draft bill was undergoing a \\xe2\\x80\\x9cserious rewrite.\\xe2\\x80\\x9d \\xe2\\x80\\x9cClearly, the draft plan is dead,\\xe2\\x80\\x9d he said on Fox News. \\xe2\\x80\\x9cIs the serious rewrite plan dead? I don\\xe2\\x80\\x99t know. I\\xe2\\x80\\x99ve not seen the serious rewrite plan.\\xe2\\x80\\x9d Critics have derided the bill as a giveaway to wealthy Americans who would see some tax increases rolled back. Opponents also warn that the legislation would cause millions of poor and sick Americans to lose healthcare coverage. The nonpartisan Congressional Budget Office, which assesses the impact of legislation, estimated 22 million people would lose health insurance over the next decade under the Senate bill. In a separate report, it found the proposal would cut government spending on Medicaid by 35 percent come 2036. White House chief of staff Reince Priebus said on Fox News on Sunday that Trump expected Congress to pass a bill to repeal and replace Obamacare before lawmakers leave Washington for their August recess. A spokesman for Majority Leader Mitch McConnell said Senate leadership was continuing to work with Republican senators and the CBO on the legislation, but did not comment on McCain\\xe2\\x80\\x99s remarks or the bill\\xe2\\x80\\x99s future. Republican Senator Ted Cruz said on Sunday that failure to pass the bill was \\xe2\\x80\\x9cnot an option\\xe2\\x80\\x9d and that the Senate effort must focus on lowering premiums. He pointed to an amendment he offered that is being scored by the CBO. Cruz\\xe2\\x80\\x99s amendment would allow insurers to offer plans that do not comply with Obamacare\\xe2\\x80\\x99s mandate that they charge sick and healthy people the same rates and cover a set of essential health benefits, such as maternity care and prescription drugs, as long as they also offer plans that do comply with the regulations. Cruz\\xe2\\x80\\x99s amendment has drawn support from conservative senators and groups, who say the amendment will help lower premiums. But moderate Republicans and outside critics say it will erode protections for people with pre-existing conditions and make their insurance unaffordable. McConnell has said he plans to hold a vote on the legislation, which needs the support of at least 50 of the Senate\\xe2\\x80\\x99s 52 Republicans, before a six-week recess that begins on July 29. The Republican-controlled House of Representatives passed its version of a bill overhauling healthcare in May. Yet McConnell himself voiced doubts on the Senate bill\\xe2\\x80\\x99s prospects last week, telling a luncheon in his home state of Kentucky that if Republicans fail to pass a repeal of Obamacare, they may need to work with Democrats to shore up private health insurance markets to keep them from collapsing. \\tReal\"\n",
            "Label 1\n",
            "Article b\"Manafort's work on draft op-ed does not violate gag order: defense lawyer WASHINGTON (Reuters) - President Donald Trump\\xe2\\x80\\x99s former campaign manager Paul Manafort did not violate a court gag order when he helped edit an opinion piece about his political work in Ukraine, his defense lawyer Kevin Downing said in a court filing on Thursday. The filing comes after prosecutors working for Special Counsel Robert Mueller earlier this week said they could no longer agree to more lenient bail terms for Manafort, after discovering he was working with a colleague tied to Russian intelligence agencies to ghost-write an opinion piece that cast his political work in a favorable light. Downing said in the Thursday filing that his client was only involved in editing the piece to ensure accuracy, and that it would not prejudice the case because it was ultimately published in a Ukrainian newspaper, not an American one. \\tReal\"\n",
            "Label 1\n"
          ]
        }
      ]
    },
    {
      "cell_type": "code",
      "source": [
        "print(\"Label 0 corresponds to\", train_ds.class_names[0])\n",
        "print(\"Label 1 corresponds to\", train_ds.class_names[1])"
      ],
      "metadata": {
        "colab": {
          "base_uri": "https://localhost:8080/"
        },
        "id": "s67ZYLM4bHEO",
        "outputId": "351836e9-1e75-402f-ef25-858c5e9f4c53"
      },
      "execution_count": 6,
      "outputs": [
        {
          "output_type": "stream",
          "name": "stdout",
          "text": [
            "Label 0 corresponds to Fake\n",
            "Label 1 corresponds to Real\n"
          ]
        }
      ]
    },
    {
      "cell_type": "markdown",
      "source": [
        "## Collect Key Metrics"
      ],
      "metadata": {
        "id": "dQhWhE5n9vQ1"
      }
    },
    {
      "cell_type": "code",
      "source": [
        "\"\"\"Module to explore data.\n",
        "\n",
        "Contains functions to help study, visualize and understand datasets.\n",
        "\"\"\"\n",
        "from __future__ import absolute_import\n",
        "from __future__ import division\n",
        "from __future__ import print_function\n",
        "\n",
        "import numpy as np\n",
        "import matplotlib.pyplot as plt\n",
        "\n",
        "from collections import Counter\n",
        "from sklearn.feature_extraction.text import CountVectorizer\n",
        "\n",
        "\n",
        "def get_num_classes(labels):\n",
        "    \"\"\"Gets the total number of classes.\n",
        "\n",
        "    # Arguments\n",
        "        labels: list, label values.\n",
        "            There should be at lease one sample for values in the\n",
        "            range (0, num_classes -1)\n",
        "\n",
        "    # Returns\n",
        "        int, total number of classes.\n",
        "\n",
        "    # Raises\n",
        "        ValueError: if any label value in the range(0, num_classes - 1)\n",
        "            is missing or if number of classes is <= 1.\n",
        "    \"\"\"\n",
        "    num_classes = max(labels) + 1\n",
        "    missing_classes = [i for i in range(num_classes) if i not in labels]\n",
        "    if len(missing_classes):\n",
        "        raise ValueError('Missing samples with label value(s) '\n",
        "                         '{missing_classes}. Please make sure you have '\n",
        "                         'at least one sample for every label value '\n",
        "                         'in the range(0, {max_class})'.format(\n",
        "                            missing_classes=missing_classes,\n",
        "                            max_class=num_classes - 1))\n",
        "\n",
        "    if num_classes <= 1:\n",
        "        raise ValueError('Invalid number of labels: {num_classes}.'\n",
        "                         'Please make sure there are at least two classes '\n",
        "                         'of samples'.format(num_classes=num_classes))\n",
        "    return num_classes\n",
        "\n",
        "\n",
        "def get_num_words_per_sample(sample_texts):\n",
        "    \"\"\"Gets the median number of words per sample given corpus.\n",
        "\n",
        "    # Arguments\n",
        "        sample_texts: list, sample texts.\n",
        "\n",
        "    # Returns\n",
        "        int, median number of words per sample.\n",
        "    \"\"\"\n",
        "    num_words = [len(s.split()) for s in sample_texts]\n",
        "    return np.median(num_words)\n",
        "\n",
        "\n",
        "def plot_frequency_distribution_of_ngrams(sample_texts,\n",
        "                                          ngram_range=(1, 2),\n",
        "                                          num_ngrams=50):\n",
        "    \"\"\"Plots the frequency distribution of n-grams.\n",
        "\n",
        "    # Arguments\n",
        "        samples_texts: list, sample texts.\n",
        "        ngram_range: tuple (min, mplt), The range of n-gram values to consider.\n",
        "            Min and mplt are the lower and upper bound values for the range.\n",
        "        num_ngrams: int, number of n-grams to plot.\n",
        "            Top `num_ngrams` frequent n-grams will be plotted.\n",
        "    \"\"\"\n",
        "    # Create args required for vectorizing.\n",
        "    kwargs = {\n",
        "            'ngram_range': (1, 1),\n",
        "            'dtype': 'int32',\n",
        "            'strip_accents': 'unicode',\n",
        "            'decode_error': 'replace',\n",
        "            'analyzer': 'word',  # Split text into word tokens.\n",
        "    }\n",
        "    vectorizer = CountVectorizer(**kwargs)\n",
        "\n",
        "    # This creates a vocabulary (dict, where keys are n-grams and values are\n",
        "    # idxices). This also converts every text to an array the length of\n",
        "    # vocabulary, where every element idxicates the count of the n-gram\n",
        "    # corresponding at that idxex in vocabulary.\n",
        "    vectorized_texts = vectorizer.fit_transform(sample_texts)\n",
        "\n",
        "    # This is the list of all n-grams in the index order from the vocabulary.\n",
        "    all_ngrams = list(vectorizer.get_feature_names_out())\n",
        "    num_ngrams = min(num_ngrams, len(all_ngrams))\n",
        "    # ngrams = all_ngrams[:num_ngrams]\n",
        "\n",
        "    # Add up the counts per n-gram ie. column-wise\n",
        "    all_counts = vectorized_texts.sum(axis=0).tolist()[0]\n",
        "\n",
        "    # Sort n-grams and counts by frequency and get top `num_ngrams` ngrams.\n",
        "    all_counts, all_ngrams = zip(*[(c, n) for c, n in sorted(\n",
        "        zip(all_counts, all_ngrams), reverse=True)])\n",
        "    ngrams = list(all_ngrams)[:num_ngrams]\n",
        "    counts = list(all_counts)[:num_ngrams]\n",
        "\n",
        "    idx = np.arange(num_ngrams)\n",
        "    plt.bar(idx, counts, width=0.8, color='b')\n",
        "    plt.xlabel('N-grams')\n",
        "    plt.ylabel('Frequencies')\n",
        "    plt.title('Frequency distribution of n-grams')\n",
        "    plt.xticks(idx, ngrams, rotation=45)\n",
        "    plt.show()\n",
        "\n",
        "\n",
        "def plot_sample_length_distribution(sample_texts):\n",
        "    \"\"\"Plots the sample length distribution.\n",
        "\n",
        "    # Arguments\n",
        "        samples_texts: list, sample texts.\n",
        "    \"\"\"\n",
        "    plt.hist([len(s) for s in sample_texts], 50)\n",
        "    plt.xlabel('Length of a sample')\n",
        "    plt.ylabel('Number of samples')\n",
        "    plt.title('Sample length distribution')\n",
        "    plt.show()\n",
        "\n",
        "\n",
        "def plot_class_distribution(labels):\n",
        "    \"\"\"Plots the class distribution.\n",
        "\n",
        "    # Arguments\n",
        "        labels: list, label values.\n",
        "            There should be at lease one sample for values in the\n",
        "            range (0, num_classes -1)\n",
        "    \"\"\"\n",
        "    num_classes = get_num_classes(labels)\n",
        "    count_map = Counter(labels)\n",
        "    counts = [count_map[i] for i in range(num_classes)]\n",
        "    idx = np.arange(num_classes)\n",
        "    plt.bar(idx, counts, width=0.8, color='b')\n",
        "    plt.xlabel('Class')\n",
        "    plt.ylabel('Number of samples')\n",
        "    plt.title('Class distribution')\n",
        "    plt.xticks(idx, idx)\n",
        "    plt.show()"
      ],
      "metadata": {
        "id": "R8ECg78h9wSU"
      },
      "execution_count": 7,
      "outputs": []
    },
    {
      "cell_type": "code",
      "source": [
        "# Number of samples: Total number of examples you have in the data.\n",
        "print(len(train_ds))"
      ],
      "metadata": {
        "colab": {
          "base_uri": "https://localhost:8080/"
        },
        "id": "3M30vGKv90pq",
        "outputId": "d13f6ebd-c715-4999-c87e-0713583ce3d4"
      },
      "execution_count": 8,
      "outputs": [
        {
          "output_type": "stream",
          "name": "stdout",
          "text": [
            "6930\n"
          ]
        }
      ]
    },
    {
      "cell_type": "code",
      "source": [
        "# Number of classes: Total number of topics or categories in the data.\n",
        "print(len(train_ds.class_names))"
      ],
      "metadata": {
        "colab": {
          "base_uri": "https://localhost:8080/"
        },
        "id": "x8PCYdP2-h9j",
        "outputId": "f35b1f27-a5dd-446d-9a47-9a4577ab60b0"
      },
      "execution_count": 9,
      "outputs": [
        {
          "output_type": "stream",
          "name": "stdout",
          "text": [
            "2\n"
          ]
        }
      ]
    },
    {
      "cell_type": "code",
      "source": [
        "# Iterate through the dataset and convert to NumPy arrays\n",
        "train_text = []\n",
        "train_label = []\n",
        "for text, label in train_ds:\n",
        "    train_text.append(text.numpy())\n",
        "    train_label.append(label.numpy())\n",
        "\n",
        "train_text = np.array(train_text)\n",
        "train_label = np.array(train_label)"
      ],
      "metadata": {
        "id": "ZrARM4JnGHdV"
      },
      "execution_count": 10,
      "outputs": []
    },
    {
      "cell_type": "code",
      "source": [
        "# Iterate through the dataset and convert to NumPy arrays\n",
        "val_text = []\n",
        "val_label = []\n",
        "for text, label in val_ds:\n",
        "    val_text.append(text.numpy())\n",
        "    val_label.append(label.numpy())\n",
        "\n",
        "val_text = np.array(val_text)\n",
        "val_label = np.array(val_label)"
      ],
      "metadata": {
        "id": "Z4BjOhW9JhEb"
      },
      "execution_count": 11,
      "outputs": []
    },
    {
      "cell_type": "code",
      "source": [
        "# Iterate through the dataset and convert to NumPy arrays\n",
        "test_text = []\n",
        "test_label = []\n",
        "for text, label in val_ds:\n",
        "    test_text.append(text.numpy())\n",
        "    test_label.append(label.numpy())\n",
        "\n",
        "test_text = np.array(test_text)\n",
        "test_label = np.array(test_label)"
      ],
      "metadata": {
        "id": "h-PK8R9EKFbp"
      },
      "execution_count": 12,
      "outputs": []
    },
    {
      "cell_type": "code",
      "source": [
        "# Number of samples per class: Number of samples per class (topic/category).\n",
        "plot_class_distribution(train_label)"
      ],
      "metadata": {
        "colab": {
          "base_uri": "https://localhost:8080/",
          "height": 472
        },
        "id": "c3lAx9Lz_TdQ",
        "outputId": "ecd88837-2e7b-4246-f7fc-c302ab301c32"
      },
      "execution_count": 13,
      "outputs": [
        {
          "output_type": "display_data",
          "data": {
            "text/plain": [
              "<Figure size 640x480 with 1 Axes>"
            ],
            "image/png": "[encoded data removed]"
          },
          "metadata": {}
        }
      ]
    },
    {
      "cell_type": "code",
      "source": [
        "# Number of words per sample: Median number of words in one sample.\n",
        "print(get_num_words_per_sample(train_text))"
      ],
      "metadata": {
        "colab": {
          "base_uri": "https://localhost:8080/"
        },
        "id": "tFzBwXcADTRz",
        "outputId": "a0d4380f-1373-44b0-e92e-2c67e6cdf896"
      },
      "execution_count": 14,
      "outputs": [
        {
          "output_type": "stream",
          "name": "stdout",
          "text": [
            "405.0\n"
          ]
        }
      ]
    },
    {
      "cell_type": "code",
      "source": [
        "# Frequency distribution of words: Distribution showing the frequency (number of occurrences) of each word in the dataset.\n",
        "plot_frequency_distribution_of_ngrams(train_text)"
      ],
      "metadata": {
        "colab": {
          "base_uri": "https://localhost:8080/",
          "height": 514
        },
        "id": "oIAy_V18G7uN",
        "outputId": "75740fe9-308e-483f-830c-3a7231e37910"
      },
      "execution_count": 15,
      "outputs": [
        {
          "output_type": "display_data",
          "data": {
            "text/plain": [
              "<Figure size 640x480 with 1 Axes>"
            ],
            "image/png": "[encoded data removed]"
          },
          "metadata": {}
        }
      ]
    },
    {
      "cell_type": "code",
      "source": [
        "# Distribution of sample length: Distribution showing the number of words per sample in the dataset.\n",
        "plot_sample_length_distribution(train_text)"
      ],
      "metadata": {
        "colab": {
          "base_uri": "https://localhost:8080/",
          "height": 472
        },
        "id": "OROgXTIzHDGP",
        "outputId": "8e33198a-ce98-436d-9ff7-9c1758bed1d7"
      },
      "execution_count": 16,
      "outputs": [
        {
          "output_type": "display_data",
          "data": {
            "text/plain": [
              "<Figure size 640x480 with 1 Axes>"
            ],
            "image/png": "[encoded data removed]"
          },
          "metadata": {}
        }
      ]
    },
    {
      "cell_type": "markdown",
      "source": [
        "# Choose a Model"
      ],
      "metadata": {
        "id": "dKERSyVrHVGp"
      }
    },
    {
      "cell_type": "code",
      "source": [
        "# Calculate the number of samples/number of words per sample ratio.\n",
        "number_of_samples = len(train_text)\n",
        "number_of_words_per_sample = get_num_words_per_sample(train_text)\n",
        "ratio = number_of_samples / number_of_words_per_sample\n",
        "print(int(ratio))"
      ],
      "metadata": {
        "colab": {
          "base_uri": "https://localhost:8080/"
        },
        "id": "BYks1lA1HYBX",
        "outputId": "36fe4272-6eb1-4324-d7e1-b84faea36af3"
      },
      "execution_count": 17,
      "outputs": [
        {
          "output_type": "stream",
          "name": "stdout",
          "text": [
            "17\n"
          ]
        }
      ]
    },
    {
      "cell_type": "markdown",
      "source": [
        "# Data Preprocessing"
      ],
      "metadata": {
        "id": "hQpExOv7cDY0"
      }
    },
    {
      "cell_type": "markdown",
      "source": [
        "1. tokenization\n",
        "2. vectorization\n",
        "3. feature selection"
      ],
      "metadata": {
        "id": "VTMoMcYocJoD"
      }
    },
    {
      "cell_type": "code",
      "source": [],
      "metadata": {
        "id": "e-rqz_OUNQ1H"
      },
      "execution_count": 17,
      "outputs": []
    },
    {
      "cell_type": "code",
      "source": [
        "from sklearn.feature_extraction.text import TfidfVectorizer\n",
        "from sklearn.feature_selection import SelectKBest\n",
        "from sklearn.feature_selection import f_classif\n",
        "\n",
        "# Vectorization parameters\n",
        "# Range (inclusive) of n-gram sizes for tokenizing text.\n",
        "NGRAM_RANGE = (1, 2)\n",
        "\n",
        "\n",
        "# Whether text should be split into word or character n-grams.\n",
        "# One of 'word', 'char'.\n",
        "TOKEN_MODE = 'word'\n",
        "\n",
        "# Minimum document/corpus frequency below which a token will be discarded.\n",
        "MIN_DOCUMENT_FREQUENCY = 2\n",
        "\n",
        "def ngram_vectorize(train_texts, train_labels, val_texts, test_texts, top_k=5000):\n",
        "    \"\"\"Vectorizes texts as n-gram vectors.\n",
        "\n",
        "    1 text = 1 tf-idf vector the length of vocabulary of unigrams + bigrams.\n",
        "\n",
        "    # Arguments\n",
        "        train_texts: list, training text strings.\n",
        "        train_labels: np.ndarray, training labels.\n",
        "        val_texts: list, validation text strings.\n",
        "\n",
        "    # Returns\n",
        "        x_train, x_val: vectorized training and validation texts\n",
        "    \"\"\"\n",
        "    # Create keyword arguments to pass to the 'tf-idf' vectorizer.\n",
        "    kwargs = {\n",
        "            'ngram_range': NGRAM_RANGE,  # Use 1-grams + 2-grams.\n",
        "            'dtype': 'int32',\n",
        "            'strip_accents': 'unicode',\n",
        "            'decode_error': 'replace',\n",
        "            'analyzer': TOKEN_MODE,  # Split text into word tokens.\n",
        "            'min_df': MIN_DOCUMENT_FREQUENCY,\n",
        "    }\n",
        "    vectorizer = TfidfVectorizer(ngram_range=(1, 2), min_df=2)\n",
        "\n",
        "    # Learn vocabulary from training texts and vectorize training texts.\n",
        "    x_train = vectorizer.fit_transform(train_texts)\n",
        "\n",
        "    # Vectorize validation texts.\n",
        "    x_val = vectorizer.transform(val_texts)\n",
        "    x_test = vectorizer.transform(test_texts)\n",
        "\n",
        "    # Select top 'k' of the vectorized features.\n",
        "    selector = SelectKBest(f_classif, k=min(top_k, x_train.shape[1]))\n",
        "    selector.fit(x_train, train_labels)\n",
        "    x_train = selector.transform(x_train).astype('float32')\n",
        "    x_val = selector.transform(x_val).astype('float32')\n",
        "    x_test = selector.transform(x_test).astype('float32')\n",
        "\n",
        "    return x_train, x_val,x_test"
      ],
      "metadata": {
        "id": "jkGfkbVlb74I"
      },
      "execution_count": 18,
      "outputs": []
    },
    {
      "cell_type": "code",
      "source": [
        "x_train, x_val, x_test = ngram_vectorize(train_text, train_label, val_text, test_text)"
      ],
      "metadata": {
        "id": "OPGJ9VpOdBtf"
      },
      "execution_count": 19,
      "outputs": []
    },
    {
      "cell_type": "markdown",
      "source": [
        "# Build Model"
      ],
      "metadata": {
        "id": "9f-b1uAZKh1t"
      }
    },
    {
      "cell_type": "code",
      "source": [
        "def _get_last_layer_units_and_activation(num_classes):\n",
        "    \"\"\"Gets the # units and activation function for the last network layer.\n",
        "\n",
        "    # Arguments\n",
        "        num_classes: int, number of classes.\n",
        "\n",
        "    # Returns\n",
        "        units, activation values.\n",
        "    \"\"\"\n",
        "    if num_classes == 2:\n",
        "        activation = 'sigmoid'\n",
        "        units = 1\n",
        "    else:\n",
        "        activation = 'softmax'\n",
        "        units = num_classes\n",
        "    return units, activation"
      ],
      "metadata": {
        "id": "BJ4N0zXUKlQU"
      },
      "execution_count": 20,
      "outputs": []
    },
    {
      "cell_type": "code",
      "source": [
        "# Build MLP model\n",
        "from tensorflow.keras.models import Sequential\n",
        "from tensorflow.keras.layers import Dense, Dropout\n",
        "\n",
        "def build_mlp(input_shape):\n",
        "    model = Sequential([\n",
        "        Dropout(0.2, input_shape=input_shape),\n",
        "        Dense(64, activation='relu'),\n",
        "        Dropout(0.2),\n",
        "        Dense(1, activation='sigmoid')\n",
        "    ])\n",
        "    model.compile(optimizer='adam', loss='binary_crossentropy', metrics=['accuracy'])\n",
        "    return model"
      ],
      "metadata": {
        "id": "sf3QmYnrKpyh"
      },
      "execution_count": 21,
      "outputs": []
    },
    {
      "cell_type": "code",
      "source": [
        "model = build_mlp(x_train.shape[1:])"
      ],
      "metadata": {
        "id": "PE7l32ewKsAX",
        "outputId": "59da28ef-8ecb-4383-f691-9b7be65a2456",
        "colab": {
          "base_uri": "https://localhost:8080/"
        }
      },
      "execution_count": 22,
      "outputs": [
        {
          "output_type": "stream",
          "name": "stderr",
          "text": [
            "/usr/local/lib/python3.11/dist-packages/keras/src/layers/regularization/dropout.py:42: UserWarning: Do not pass an `input_shape`/`input_dim` argument to a layer. When using Sequential models, prefer using an `Input(shape)` object as the first layer in the model instead.\n",
            "  super().__init__(**kwargs)\n"
          ]
        }
      ]
    },
    {
      "cell_type": "markdown",
      "source": [
        "# Train Model"
      ],
      "metadata": {
        "id": "3kfFbUQYK3TC"
      }
    },
    {
      "cell_type": "code",
      "source": [
        "# Early stopping\n",
        "early_stop = tf.keras.callbacks.EarlyStopping(monitor='val_loss', patience=2, restore_best_weights=True)\n",
        "\n",
        "# Train model\n",
        "history = model.fit(x_train, train_label, epochs=100, batch_size=32,\n",
        "                     validation_data=(x_val, val_label), callbacks=[early_stop], verbose=2)\n"
      ],
      "metadata": {
        "id": "LOGqcYGhKvAn",
        "outputId": "3d96ac99-2339-4f01-e249-bc2b33a5325d",
        "colab": {
          "base_uri": "https://localhost:8080/"
        }
      },
      "execution_count": 23,
      "outputs": [
        {
          "output_type": "stream",
          "name": "stdout",
          "text": [
            "Epoch 1/100\n",
            "217/217 - 3s - 16ms/step - accuracy: 0.9567 - loss: 0.2715 - val_accuracy: 0.9889 - val_loss: 0.0765\n",
            "Epoch 2/100\n",
            "217/217 - 3s - 12ms/step - accuracy: 0.9915 - loss: 0.0503 - val_accuracy: 0.9920 - val_loss: 0.0342\n",
            "Epoch 3/100\n",
            "217/217 - 3s - 12ms/step - accuracy: 0.9960 - loss: 0.0246 - val_accuracy: 0.9940 - val_loss: 0.0210\n",
            "Epoch 4/100\n",
            "217/217 - 4s - 21ms/step - accuracy: 0.9970 - loss: 0.0149 - val_accuracy: 0.9955 - val_loss: 0.0149\n",
            "Epoch 5/100\n",
            "217/217 - 2s - 11ms/step - accuracy: 0.9991 - loss: 0.0096 - val_accuracy: 0.9975 - val_loss: 0.0112\n",
            "Epoch 6/100\n",
            "217/217 - 2s - 9ms/step - accuracy: 0.9997 - loss: 0.0069 - val_accuracy: 0.9975 - val_loss: 0.0091\n",
            "Epoch 7/100\n",
            "217/217 - 3s - 15ms/step - accuracy: 0.9999 - loss: 0.0045 - val_accuracy: 0.9980 - val_loss: 0.0072\n",
            "Epoch 8/100\n",
            "217/217 - 2s - 9ms/step - accuracy: 0.9999 - loss: 0.0036 - val_accuracy: 0.9985 - val_loss: 0.0063\n",
            "Epoch 9/100\n",
            "217/217 - 2s - 9ms/step - accuracy: 1.0000 - loss: 0.0025 - val_accuracy: 0.9985 - val_loss: 0.0054\n",
            "Epoch 10/100\n",
            "217/217 - 2s - 11ms/step - accuracy: 0.9999 - loss: 0.0023 - val_accuracy: 0.9990 - val_loss: 0.0047\n",
            "Epoch 11/100\n",
            "217/217 - 2s - 9ms/step - accuracy: 1.0000 - loss: 0.0017 - val_accuracy: 0.9990 - val_loss: 0.0043\n",
            "Epoch 12/100\n",
            "217/217 - 3s - 15ms/step - accuracy: 1.0000 - loss: 0.0014 - val_accuracy: 0.9990 - val_loss: 0.0039\n",
            "Epoch 13/100\n",
            "217/217 - 4s - 20ms/step - accuracy: 1.0000 - loss: 0.0011 - val_accuracy: 0.9990 - val_loss: 0.0035\n",
            "Epoch 14/100\n",
            "217/217 - 2s - 11ms/step - accuracy: 1.0000 - loss: 9.1971e-04 - val_accuracy: 0.9990 - val_loss: 0.0032\n",
            "Epoch 15/100\n",
            "217/217 - 3s - 13ms/step - accuracy: 1.0000 - loss: 8.6248e-04 - val_accuracy: 0.9990 - val_loss: 0.0030\n",
            "Epoch 16/100\n",
            "217/217 - 3s - 12ms/step - accuracy: 1.0000 - loss: 6.9635e-04 - val_accuracy: 0.9990 - val_loss: 0.0029\n",
            "Epoch 17/100\n",
            "217/217 - 4s - 20ms/step - accuracy: 1.0000 - loss: 6.1283e-04 - val_accuracy: 0.9990 - val_loss: 0.0027\n",
            "Epoch 18/100\n",
            "217/217 - 3s - 12ms/step - accuracy: 1.0000 - loss: 5.3474e-04 - val_accuracy: 0.9990 - val_loss: 0.0024\n",
            "Epoch 19/100\n",
            "217/217 - 3s - 12ms/step - accuracy: 1.0000 - loss: 4.2180e-04 - val_accuracy: 0.9995 - val_loss: 0.0022\n",
            "Epoch 20/100\n",
            "217/217 - 2s - 11ms/step - accuracy: 1.0000 - loss: 3.1901e-04 - val_accuracy: 0.9995 - val_loss: 0.0021\n",
            "Epoch 21/100\n",
            "217/217 - 3s - 12ms/step - accuracy: 1.0000 - loss: 3.0567e-04 - val_accuracy: 0.9990 - val_loss: 0.0021\n",
            "Epoch 22/100\n",
            "217/217 - 2s - 9ms/step - accuracy: 1.0000 - loss: 2.8008e-04 - val_accuracy: 0.9990 - val_loss: 0.0021\n",
            "Epoch 23/100\n",
            "217/217 - 2s - 9ms/step - accuracy: 1.0000 - loss: 2.4966e-04 - val_accuracy: 0.9990 - val_loss: 0.0019\n",
            "Epoch 24/100\n",
            "217/217 - 2s - 9ms/step - accuracy: 1.0000 - loss: 1.9789e-04 - val_accuracy: 0.9990 - val_loss: 0.0018\n",
            "Epoch 25/100\n",
            "217/217 - 3s - 12ms/step - accuracy: 1.0000 - loss: 2.4135e-04 - val_accuracy: 0.9990 - val_loss: 0.0018\n",
            "Epoch 26/100\n",
            "217/217 - 4s - 20ms/step - accuracy: 1.0000 - loss: 1.3637e-04 - val_accuracy: 0.9990 - val_loss: 0.0017\n",
            "Epoch 27/100\n",
            "217/217 - 3s - 13ms/step - accuracy: 1.0000 - loss: 2.0419e-04 - val_accuracy: 0.9990 - val_loss: 0.0017\n",
            "Epoch 28/100\n",
            "217/217 - 2s - 8ms/step - accuracy: 1.0000 - loss: 1.2937e-04 - val_accuracy: 0.9990 - val_loss: 0.0016\n",
            "Epoch 29/100\n",
            "217/217 - 2s - 11ms/step - accuracy: 1.0000 - loss: 9.9597e-05 - val_accuracy: 0.9990 - val_loss: 0.0015\n",
            "Epoch 30/100\n",
            "217/217 - 2s - 9ms/step - accuracy: 1.0000 - loss: 1.1475e-04 - val_accuracy: 0.9995 - val_loss: 0.0013\n",
            "Epoch 31/100\n",
            "217/217 - 4s - 17ms/step - accuracy: 1.0000 - loss: 1.0633e-04 - val_accuracy: 1.0000 - val_loss: 0.0012\n",
            "Epoch 32/100\n",
            "217/217 - 4s - 18ms/step - accuracy: 1.0000 - loss: 8.3165e-05 - val_accuracy: 0.9990 - val_loss: 0.0014\n",
            "Epoch 33/100\n",
            "217/217 - 3s - 12ms/step - accuracy: 1.0000 - loss: 6.8565e-05 - val_accuracy: 0.9995 - val_loss: 0.0012\n",
            "Epoch 34/100\n",
            "217/217 - 3s - 12ms/step - accuracy: 1.0000 - loss: 5.6164e-05 - val_accuracy: 1.0000 - val_loss: 0.0010\n",
            "Epoch 35/100\n",
            "217/217 - 3s - 15ms/step - accuracy: 1.0000 - loss: 5.8518e-05 - val_accuracy: 0.9990 - val_loss: 0.0012\n",
            "Epoch 36/100\n",
            "217/217 - 3s - 13ms/step - accuracy: 1.0000 - loss: 6.1210e-05 - val_accuracy: 0.9990 - val_loss: 0.0011\n"
          ]
        }
      ]
    },
    {
      "cell_type": "markdown",
      "source": [
        "# Evaluate the model"
      ],
      "metadata": {
        "id": "PGqkkByXLCYb"
      }
    },
    {
      "cell_type": "code",
      "source": [
        "loss, accuracy = model.evaluate(x_test, np.array(test_label), verbose=2)\n",
        "\n",
        "\n",
        "print(\"Loss: \", loss)\n",
        "print(\"Accuracy: \", accuracy)"
      ],
      "metadata": {
        "id": "Eb_saCM9LDtg",
        "outputId": "081c978f-1ae2-4b0b-a266-b7d8952b96f6",
        "colab": {
          "base_uri": "https://localhost:8080/"
        }
      },
      "execution_count": 24,
      "outputs": [
        {
          "output_type": "stream",
          "name": "stdout",
          "text": [
            "63/63 - 0s - 4ms/step - accuracy: 0.9995 - loss: 0.0022\n",
            "Loss:  0.0021698467899113894\n",
            "Accuracy:  0.9994972348213196\n"
          ]
        }
      ]
    },
    {
      "cell_type": "code",
      "source": [
        "history.history.keys()"
      ],
      "metadata": {
        "id": "09YCA9onLi7W",
        "outputId": "795dbb55-a6ca-4396-a698-abc47034c858",
        "colab": {
          "base_uri": "https://localhost:8080/"
        }
      },
      "execution_count": 25,
      "outputs": [
        {
          "output_type": "execute_result",
          "data": {
            "text/plain": [
              "dict_keys(['accuracy', 'loss', 'val_accuracy', 'val_loss'])"
            ]
          },
          "metadata": {},
          "execution_count": 25
        }
      ]
    },
    {
      "cell_type": "code",
      "source": [
        "acc = history.history['accuracy']\n",
        "val_acc = history.history['val_accuracy']\n",
        "loss = history.history['loss']\n",
        "val_loss = history.history['val_loss']\n",
        "\n",
        "epochs = range(1, len(acc) + 1)\n",
        "\n",
        "# \"bo\" is for \"blue dot\"\n",
        "plt.plot(epochs, loss, 'bo', label='Training loss')\n",
        "# b is for \"solid blue line\"\n",
        "plt.plot(epochs, val_loss, 'b', label='Validation loss')\n",
        "plt.title('Training and validation loss')\n",
        "plt.xlabel('Epochs')\n",
        "plt.ylabel('Loss')\n",
        "plt.legend()\n",
        "\n",
        "plt.show()"
      ],
      "metadata": {
        "id": "3KhNyC3ALmEJ",
        "outputId": "7669919c-5eab-4106-ba37-e7331b76e5f0",
        "colab": {
          "base_uri": "https://localhost:8080/",
          "height": 472
        }
      },
      "execution_count": 26,
      "outputs": [
        {
          "output_type": "display_data",
          "data": {
            "text/plain": [
              "<Figure size 640x480 with 1 Axes>"
            ],
            "image/png": "[encoded data removed]"
          },
          "metadata": {}
        }
      ]
    },
    {
      "cell_type": "code",
      "source": [
        "plt.plot(epochs, acc, 'bo', label='Training acc')\n",
        "plt.plot(epochs, val_acc, 'b', label='Validation acc')\n",
        "plt.title('Training and validation accuracy')\n",
        "plt.xlabel('Epochs')\n",
        "plt.ylabel('Accuracy')\n",
        "plt.legend(loc='lower right')\n",
        "\n",
        "plt.show()"
      ],
      "metadata": {
        "id": "rfu5Pt9iLnI1",
        "outputId": "37706810-9f5c-4fbd-b807-7e068a43731d",
        "colab": {
          "base_uri": "https://localhost:8080/",
          "height": 472
        }
      },
      "execution_count": 27,
      "outputs": [
        {
          "output_type": "display_data",
          "data": {
            "text/plain": [
              "<Figure size 640x480 with 1 Axes>"
            ],
            "image/png": "[encoded data removed]"
          },
          "metadata": {}
        }
      ]
    },
    {
      "cell_type": "markdown",
      "source": [
        "# Save Model"
      ],
      "metadata": {
        "id": "vB209W1-L0FV"
      }
    },
    {
      "cell_type": "code",
      "source": [
        "# Save model.\n",
        "model.save('Fake_News_Detector_model.h5')"
      ],
      "metadata": {
        "id": "4imFXAOljzF_",
        "colab": {
          "base_uri": "https://localhost:8080/"
        },
        "outputId": "930b8ea9-f34f-40e6-8c6f-32728933b9db"
      },
      "execution_count": 28,
      "outputs": [
        {
          "output_type": "stream",
          "name": "stderr",
          "text": [
            "WARNING:absl:You are saving your model as an HDF5 file via `model.save()` or `keras.saving.save_model(model)`. This file format is considered legacy. We recommend using instead the native Keras format, e.g. `model.save('my_model.keras')` or `keras.saving.save_model(model, 'my_model.keras')`. \n"
          ]
        }
      ]
    },
    {
      "cell_type": "code",
      "source": [],
      "metadata": {
        "id": "cjwxlDvlL2gZ"
      },
      "execution_count": 28,
      "outputs": []
    }
  ]
}