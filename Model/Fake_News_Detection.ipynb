{
  "nbformat": 4,
  "nbformat_minor": 0,
  "metadata": {
    "colab": {
      "provenance": []
    },
    "kernelspec": {
      "name": "python3",
      "display_name": "Python 3"
    },
    "language_info": {
      "name": "python"
    }
  },
  "cells": [
    {
      "cell_type": "markdown",
      "source": [
        "# Fake News Detection\n",
        "\n"
      ],
      "metadata": {
        "id": "W5tAGYSZ4VMo"
      }
    },
    {
      "cell_type": "markdown",
      "source": [
        "In an era of rapid digital information spread distinguishing real from fake news is challenging. The Fake News Detection Dataset helps researchers and data scientists train models for accurate fake news detection."
      ],
      "metadata": {
        "id": "Wa4dBk6sXzRy"
      }
    },
    {
      "cell_type": "markdown",
      "source": [
        "# SetUp"
      ],
      "metadata": {
        "id": "XVZQl2K34ajh"
      }
    },
    {
      "cell_type": "code",
      "source": [
        "import os\n",
        "import zipfile\n",
        "import numpy as np\n",
        "import matplotlib.pyplot as plt\n",
        "from sklearn.feature_extraction.text import TfidfVectorizer\n",
        "from sklearn.feature_selection import SelectKBest, f_classif\n",
        "from sklearn.model_selection import train_test_split\n",
        "import tensorflow as tf\n",
        "from tensorflow.keras import Sequential\n",
        "from tensorflow.keras.layers import Dense, Dropout\n",
        "from tensorflow.keras.callbacks import EarlyStopping\n",
        "import pickle"
      ],
      "metadata": {
        "id": "sOMCJyygzYVi"
      },
      "execution_count": 30,
      "outputs": []
    },
    {
      "cell_type": "code",
      "source": [
        "# Set seed for reproducibility\n",
        "SEED = 42\n",
        "\n",
        "# Vectorization parameters\n",
        "# Range (inclusive) of n-gram sizes for tokenizing text.\n",
        "NGRAM_RANGE = (1, 2)\n",
        "\n",
        "# Whether text should be split into word or character n-grams.\n",
        "# One of 'word', 'char'.\n",
        "TOKEN_MODE = 'word'\n",
        "\n",
        "# Minimum document/corpus frequency below which a token will be discarded.\n",
        "MIN_DOCUMENT_FREQUENCY = 2"
      ],
      "metadata": {
        "id": "uGfj6UA70CQ0"
      },
      "execution_count": 31,
      "outputs": []
    },
    {
      "cell_type": "markdown",
      "source": [
        "# Explore the Data\n",
        "\n"
      ],
      "metadata": {
        "id": "fQ-7v9Y59ZA4"
      }
    },
    {
      "cell_type": "markdown",
      "source": [
        "## Upzip data"
      ],
      "metadata": {
        "id": "-OduxHig8qsb"
      }
    },
    {
      "cell_type": "code",
      "source": [
        "DATA_PATH = \"fake_and_real_news.zip\"\n",
        "EXPORT_PATH = 'fake_and_real_news'\n",
        "\n",
        "# Check if the file exists\n",
        "if not os.path.exists(DATA_PATH):\n",
        "    raise FileNotFoundError(f\"File not found: {DATA_PATH}. Please download the data and place it in the current working directory.\")\n",
        "\n",
        "with zipfile.ZipFile(DATA_PATH, 'r') as zip_ref:\n",
        "    zip_ref.extractall(EXPORT_PATH) # Extract to the current working directory"
      ],
      "metadata": {
        "id": "YJOpU-i68vYK"
      },
      "execution_count": 32,
      "outputs": []
    },
    {
      "cell_type": "markdown",
      "source": [
        "## Load Data"
      ],
      "metadata": {
        "id": "HgWt7zlx5fHn"
      }
    },
    {
      "cell_type": "markdown",
      "source": [
        "```\n",
        "fake_and_real_news/\n",
        "...Fake/\n",
        "......news_article_1.txt\n",
        "......news_article_2.txt\n",
        "...Real/\n",
        "......news_article_1.txt\n",
        "......news_article_2.txt\n",
        "```\n",
        "\n"
      ],
      "metadata": {
        "id": "wQdIYMdAYR2e"
      }
    },
    {
      "cell_type": "code",
      "source": [
        "# First split: Train (70%) and Temp (30% for val & test)\n",
        "train_ds = tf.keras.utils.text_dataset_from_directory(\n",
        "    EXPORT_PATH,\n",
        "    labels='inferred',\n",
        "    label_mode='int',\n",
        "    batch_size=None,\n",
        "    shuffle=True,\n",
        "    seed=SEED,\n",
        "    validation_split=0.3,\n",
        "    subset='training'\n",
        ")\n",
        "\n",
        "raw_val_test_ds = tf.keras.utils.text_dataset_from_directory(\n",
        "    EXPORT_PATH,\n",
        "    labels='inferred',\n",
        "    label_mode='int',\n",
        "    batch_size=None,\n",
        "    shuffle=True,\n",
        "    seed=SEED,\n",
        "    validation_split=0.3,\n",
        "    subset='validation'\n",
        ")\n",
        "\n",
        "# Second split: Val (20%) and Test (10%)\n",
        "val_size = int(0.67 * len(raw_val_test_ds))  # 67% of 30% = 20%\n",
        "test_size = len(raw_val_test_ds) - val_size  # Remaining 10%\n",
        "\n",
        "val_ds = raw_val_test_ds.take(val_size)\n",
        "test_ds = raw_val_test_ds.skip(val_size)\n",
        "\n",
        "# Print dataset sizes\n",
        "print('\\n')\n",
        "print(f\"Train size: {len(train_ds)}\")\n",
        "print(f\"Validation size: {len(val_ds)}\")\n",
        "print(f\"Test size: {len(test_ds)}\")\n"
      ],
      "metadata": {
        "colab": {
          "base_uri": "https://localhost:8080/"
        },
        "id": "vDxePsETZEBv",
        "outputId": "5909cca8-a345-4eb3-d1b1-e07e6ccd27f9"
      },
      "execution_count": 33,
      "outputs": [
        {
          "output_type": "stream",
          "name": "stdout",
          "text": [
            "Found 9900 files belonging to 2 classes.\n",
            "Using 6930 files for training.\n",
            "Found 9900 files belonging to 2 classes.\n",
            "Using 2970 files for validation.\n",
            "\n",
            "\n",
            "Train size: 6930\n",
            "Validation size: 1989\n",
            "Test size: 981\n"
          ]
        }
      ]
    },
    {
      "cell_type": "markdown",
      "source": [
        "## Check the Data"
      ],
      "metadata": {
        "id": "2yfUBClL9REX"
      }
    },
    {
      "cell_type": "code",
      "source": [
        "# for text_batch, label_batch in train_ds.take(5):\n",
        "#   print(\"Article\", text_batch.numpy())\n",
        "#   print(\"Label\", label_batch.numpy())"
      ],
      "metadata": {
        "id": "xwnjzVQ8aZFp"
      },
      "execution_count": 34,
      "outputs": []
    },
    {
      "cell_type": "code",
      "source": [
        "# for index,val in enumerate(train_ds.class_names):\n",
        "#   print(f\"Label {index} corresponds to {val}\")"
      ],
      "metadata": {
        "id": "s67ZYLM4bHEO"
      },
      "execution_count": 35,
      "outputs": []
    },
    {
      "cell_type": "markdown",
      "source": [
        "\n",
        "## Collect Key Metrics"
      ],
      "metadata": {
        "id": "dQhWhE5n9vQ1"
      }
    },
    {
      "cell_type": "code",
      "source": [
        "from collections import Counter\n",
        "from sklearn.feature_extraction.text import CountVectorizer\n",
        "\n",
        "def plot_class_distribution(labels):\n",
        "    \"\"\"Plots the class distribution.\n",
        "\n",
        "    # Arguments\n",
        "        labels: list, label values.\n",
        "            There should be at lease one sample for values in the\n",
        "            range (0, num_classes -1)\n",
        "    \"\"\"\n",
        "    num_classes = len(list(set(train_label.tolist())))\n",
        "    count_map = Counter(labels)\n",
        "    counts = [count_map[i] for i in range(num_classes)]\n",
        "    idx = np.arange(num_classes)\n",
        "    plt.bar(idx, counts, width=0.8, color='b')\n",
        "    plt.xlabel('Class')\n",
        "    plt.ylabel('Number of samples')\n",
        "    plt.title('Class distribution')\n",
        "    plt.xticks(idx, idx)\n",
        "    plt.show()\n",
        "\n",
        "def get_num_words_per_sample(sample_texts):\n",
        "    \"\"\"Gets the median number of words per sample given corpus.\n",
        "\n",
        "    # Arguments\n",
        "        sample_texts: list, sample texts.\n",
        "\n",
        "    # Returns\n",
        "        int, median number of words per sample.\n",
        "    \"\"\"\n",
        "    num_words = [len(s.split()) for s in sample_texts]\n",
        "    return np.median(num_words)\n",
        "\n",
        "def plot_frequency_distribution_of_ngrams(sample_texts,\n",
        "                                          ngram_range=(1, 2),\n",
        "                                          num_ngrams=50):\n",
        "    \"\"\"Plots the frequency distribution of n-grams.\n",
        "\n",
        "    # Arguments\n",
        "        samples_texts: list, sample texts.\n",
        "        ngram_range: tuple (min, mplt), The range of n-gram values to consider.\n",
        "            Min and mplt are the lower and upper bound values for the range.\n",
        "        num_ngrams: int, number of n-grams to plot.\n",
        "            Top `num_ngrams` frequent n-grams will be plotted.\n",
        "    \"\"\"\n",
        "    # Create args required for vectorizing.\n",
        "    kwargs = {\n",
        "            'ngram_range': (1, 1),\n",
        "            'dtype': 'int32',\n",
        "            'strip_accents': 'unicode',\n",
        "            'decode_error': 'replace',\n",
        "            'analyzer': 'word',  # Split text into word tokens.\n",
        "    }\n",
        "    vectorizer = CountVectorizer(**kwargs)\n",
        "\n",
        "    # This creates a vocabulary (dict, where keys are n-grams and values are\n",
        "    # idxices). This also converts every text to an array the length of\n",
        "    # vocabulary, where every element idxicates the count of the n-gram\n",
        "    # corresponding at that idxex in vocabulary.\n",
        "    vectorized_texts = vectorizer.fit_transform(sample_texts)\n",
        "\n",
        "    # This is the list of all n-grams in the index order from the vocabulary.\n",
        "    all_ngrams = list(vectorizer.get_feature_names_out())\n",
        "    num_ngrams = min(num_ngrams, len(all_ngrams))\n",
        "    # ngrams = all_ngrams[:num_ngrams]\n",
        "\n",
        "    # Add up the counts per n-gram ie. column-wise\n",
        "    all_counts = vectorized_texts.sum(axis=0).tolist()[0]\n",
        "\n",
        "    # Sort n-grams and counts by frequency and get top `num_ngrams` ngrams.\n",
        "    all_counts, all_ngrams = zip(*[(c, n) for c, n in sorted(\n",
        "        zip(all_counts, all_ngrams), reverse=True)])\n",
        "    ngrams = list(all_ngrams)[:num_ngrams]\n",
        "    counts = list(all_counts)[:num_ngrams]\n",
        "\n",
        "    idx = np.arange(num_ngrams)\n",
        "    plt.bar(idx, counts, width=0.8, color='b')\n",
        "    plt.xlabel('N-grams')\n",
        "    plt.ylabel('Frequencies')\n",
        "    plt.title('Frequency distribution of n-grams')\n",
        "    plt.xticks(idx, ngrams, rotation=45)\n",
        "    plt.show()\n",
        "\n",
        "\n",
        "def plot_sample_length_distribution(sample_texts):\n",
        "    \"\"\"Plots the sample length distribution.\n",
        "\n",
        "    # Arguments\n",
        "        samples_texts: list, sample texts.\n",
        "    \"\"\"\n",
        "    plt.hist([len(s) for s in sample_texts], 50)\n",
        "    plt.xlabel('Length of a sample')\n",
        "    plt.ylabel('Number of samples')\n",
        "    plt.title('Sample length distribution')\n",
        "    plt.show()"
      ],
      "metadata": {
        "id": "Mf0uURlyzadH"
      },
      "execution_count": 36,
      "outputs": []
    },
    {
      "cell_type": "code",
      "source": [
        "# Number of samples: Total number of examples you have in the data.\n",
        "print(len(train_ds))"
      ],
      "metadata": {
        "colab": {
          "base_uri": "https://localhost:8080/"
        },
        "id": "3M30vGKv90pq",
        "outputId": "f3635793-3273-447b-ad02-d3711f31d104"
      },
      "execution_count": 37,
      "outputs": [
        {
          "output_type": "stream",
          "name": "stdout",
          "text": [
            "6930\n"
          ]
        }
      ]
    },
    {
      "cell_type": "code",
      "source": [
        "# Number of classes: Total number of topics or categories in the data.\n",
        "print(len(train_ds.class_names))"
      ],
      "metadata": {
        "colab": {
          "base_uri": "https://localhost:8080/"
        },
        "id": "x8PCYdP2-h9j",
        "outputId": "e9c16c5c-8ee2-4171-9d64-72fa112fbcee"
      },
      "execution_count": 38,
      "outputs": [
        {
          "output_type": "stream",
          "name": "stdout",
          "text": [
            "2\n"
          ]
        }
      ]
    },
    {
      "cell_type": "code",
      "source": [
        "# Iterate through the dataset and convert to NumPy arrays\n",
        "def convert_dataset_to_numpy(dataset):\n",
        "    texts = []\n",
        "    labels = []\n",
        "    for text, label in dataset:\n",
        "        texts.append(text.numpy().decode('utf-8'))\n",
        "        labels.append(label.numpy())\n",
        "    return np.array(texts), np.array(labels)"
      ],
      "metadata": {
        "id": "M25G4ES-x-4x"
      },
      "execution_count": 39,
      "outputs": []
    },
    {
      "cell_type": "code",
      "source": [
        "train_text, train_label = convert_dataset_to_numpy(train_ds)\n",
        "val_text, val_label = convert_dataset_to_numpy(val_ds)\n",
        "test_text, test_label = convert_dataset_to_numpy(test_ds)"
      ],
      "metadata": {
        "id": "ZrARM4JnGHdV"
      },
      "execution_count": 40,
      "outputs": []
    },
    {
      "cell_type": "code",
      "source": [
        "# Number of samples per class: Number of samples per class (topic/category).\n",
        "plot_class_distribution(train_label)"
      ],
      "metadata": {
        "colab": {
          "base_uri": "https://localhost:8080/",
          "height": 472
        },
        "id": "c3lAx9Lz_TdQ",
        "outputId": "8d44c86a-8f56-4b09-95d9-ad6e4b745a9e"
      },
      "execution_count": 41,
      "outputs": [
        {
          "output_type": "display_data",
          "data": {
            "text/plain": [
              "<Figure size 640x480 with 1 Axes>"
            ],
            "image/png": "[encoded data removed]"
          },
          "metadata": {}
        }
      ]
    },
    {
      "cell_type": "code",
      "source": [
        "# Number of words per sample: Median number of words in one sample.\n",
        "print(get_num_words_per_sample(train_text))"
      ],
      "metadata": {
        "colab": {
          "base_uri": "https://localhost:8080/"
        },
        "id": "tFzBwXcADTRz",
        "outputId": "abc9686a-9fea-4317-fd3d-b23ac443df21"
      },
      "execution_count": 42,
      "outputs": [
        {
          "output_type": "stream",
          "name": "stdout",
          "text": [
            "405.0\n"
          ]
        }
      ]
    },
    {
      "cell_type": "code",
      "source": [
        "# Frequency distribution of words: Distribution showing the frequency (number of occurrences) of each word in the dataset.\n",
        "plot_frequency_distribution_of_ngrams(train_text)"
      ],
      "metadata": {
        "colab": {
          "base_uri": "https://localhost:8080/",
          "height": 514
        },
        "id": "oIAy_V18G7uN",
        "outputId": "30344c59-55a6-4cd8-d0f0-b9aa0e98f6a3"
      },
      "execution_count": 43,
      "outputs": [
        {
          "output_type": "display_data",
          "data": {
            "text/plain": [
              "<Figure size 640x480 with 1 Axes>"
            ],
            "image/png": "[encoded data removed]"
          },
          "metadata": {}
        }
      ]
    },
    {
      "cell_type": "code",
      "source": [
        "# Distribution of sample length: Distribution showing the number of words per sample in the dataset.\n",
        "plot_sample_length_distribution(train_text)"
      ],
      "metadata": {
        "colab": {
          "base_uri": "https://localhost:8080/",
          "height": 472
        },
        "id": "OROgXTIzHDGP",
        "outputId": "9a2b9ca9-1043-4dda-cae6-6a8c48a330dd"
      },
      "execution_count": 44,
      "outputs": [
        {
          "output_type": "display_data",
          "data": {
            "text/plain": [
              "<Figure size 640x480 with 1 Axes>"
            ],
            "image/png": "[encoded data removed]"
          },
          "metadata": {}
        }
      ]
    },
    {
      "cell_type": "markdown",
      "source": [
        "# Choose a Model"
      ],
      "metadata": {
        "id": "dKERSyVrHVGp"
      }
    },
    {
      "cell_type": "code",
      "source": [
        "# Calculate the number of samples/number of words per sample ratio.\n",
        "number_of_samples = len(train_text)\n",
        "number_of_words_per_sample = get_num_words_per_sample(train_text)\n",
        "ratio = number_of_samples / number_of_words_per_sample\n",
        "print(int(ratio))"
      ],
      "metadata": {
        "colab": {
          "base_uri": "https://localhost:8080/"
        },
        "id": "BYks1lA1HYBX",
        "outputId": "abd3a625-fdb0-4a19-910d-e712c097ca28"
      },
      "execution_count": 45,
      "outputs": [
        {
          "output_type": "stream",
          "name": "stdout",
          "text": [
            "17\n"
          ]
        }
      ]
    },
    {
      "cell_type": "markdown",
      "source": [
        "# Data Preprocessing"
      ],
      "metadata": {
        "id": "hQpExOv7cDY0"
      }
    },
    {
      "cell_type": "markdown",
      "source": [
        "1. tokenization\n",
        "2. vectorization\n",
        "3. feature selection"
      ],
      "metadata": {
        "id": "VTMoMcYocJoD"
      }
    },
    {
      "cell_type": "code",
      "source": [
        "def ngram_vectorize(train_texts, train_labels, val_texts, test_texts, top_k=5000):\n",
        "    \"\"\"Vectorizes texts as n-gram vectors.\n",
        "\n",
        "    1 text = 1 tf-idf vector the length of vocabulary of unigrams + bigrams.\n",
        "\n",
        "    # Arguments\n",
        "        train_texts: list, training text strings.\n",
        "        train_labels: np.ndarray, training labels.\n",
        "        val_texts: list, validation text strings.\n",
        "\n",
        "    # Returns\n",
        "        x_train, x_val: vectorized training and validation texts\n",
        "    \"\"\"\n",
        "    # Create keyword arguments to pass to the 'tf-idf' vectorizer.\n",
        "    kwargs = {\n",
        "            'ngram_range': NGRAM_RANGE,  # Use 1-grams + 2-grams.\n",
        "            'dtype': 'int32',\n",
        "            'strip_accents': 'unicode',\n",
        "            'decode_error': 'replace',\n",
        "            'analyzer': TOKEN_MODE,  # Split text into word tokens.\n",
        "            'min_df': MIN_DOCUMENT_FREQUENCY,\n",
        "    }\n",
        "    vectorizer = TfidfVectorizer(ngram_range=(1, 2), min_df=2)\n",
        "\n",
        "    # Learn vocabulary from training texts and vectorize training texts.\n",
        "    x_train = vectorizer.fit_transform(train_texts)\n",
        "\n",
        "    # Vectorize validation texts.\n",
        "    x_val = vectorizer.transform(val_texts)\n",
        "    x_test = vectorizer.transform(test_texts)\n",
        "\n",
        "    # Select top 'k' of the vectorized features.\n",
        "    selector = SelectKBest(f_classif, k=min(top_k, x_train.shape[1]))\n",
        "    selector.fit(x_train, train_labels)\n",
        "    x_train = selector.transform(x_train).astype('float32')\n",
        "    x_val = selector.transform(x_val).astype('float32')\n",
        "    x_test = selector.transform(x_test).astype('float32')\n",
        "\n",
        "    return x_train, x_val,x_test, vectorizer, selector"
      ],
      "metadata": {
        "id": "jkGfkbVlb74I"
      },
      "execution_count": 46,
      "outputs": []
    },
    {
      "cell_type": "code",
      "source": [
        "x_train, x_val, x_test, vectorizer, selector = ngram_vectorize(train_text, train_label, val_text, test_text)"
      ],
      "metadata": {
        "id": "OPGJ9VpOdBtf"
      },
      "execution_count": 47,
      "outputs": []
    },
    {
      "cell_type": "markdown",
      "source": [
        "# Build Model"
      ],
      "metadata": {
        "id": "9f-b1uAZKh1t"
      }
    },
    {
      "cell_type": "code",
      "source": [
        "# Build MLP model\n",
        "def build_mlp(input_shape):\n",
        "    model = Sequential([\n",
        "        Dropout(0.2, input_shape=input_shape),\n",
        "        Dense(64, activation='relu'),\n",
        "        Dropout(0.2),\n",
        "        Dense(1, activation='sigmoid')\n",
        "    ])\n",
        "    model.compile(optimizer='adam', loss='binary_crossentropy', metrics=['accuracy'])\n",
        "    return model"
      ],
      "metadata": {
        "id": "sf3QmYnrKpyh"
      },
      "execution_count": 48,
      "outputs": []
    },
    {
      "cell_type": "code",
      "source": [
        "model = build_mlp(x_train.shape[1:])"
      ],
      "metadata": {
        "id": "PE7l32ewKsAX",
        "outputId": "9e61e99b-020e-432c-8c6c-b836a38fa52e",
        "colab": {
          "base_uri": "https://localhost:8080/"
        }
      },
      "execution_count": 49,
      "outputs": [
        {
          "output_type": "stream",
          "name": "stderr",
          "text": [
            "/usr/local/lib/python3.11/dist-packages/keras/src/layers/regularization/dropout.py:42: UserWarning: Do not pass an `input_shape`/`input_dim` argument to a layer. When using Sequential models, prefer using an `Input(shape)` object as the first layer in the model instead.\n",
            "  super().__init__(**kwargs)\n"
          ]
        }
      ]
    },
    {
      "cell_type": "markdown",
      "source": [
        "# Train Model"
      ],
      "metadata": {
        "id": "3kfFbUQYK3TC"
      }
    },
    {
      "cell_type": "code",
      "source": [
        "# Early stopping\n",
        "early_stop = tf.keras.callbacks.EarlyStopping(monitor='val_loss', patience=2, restore_best_weights=True)\n",
        "\n",
        "# Train model\n",
        "history = model.fit(x_train, train_label, epochs=100, batch_size=32,\n",
        "                     validation_data=(x_val, val_label), callbacks=[early_stop], verbose=2)\n"
      ],
      "metadata": {
        "id": "LOGqcYGhKvAn",
        "outputId": "5266682c-865e-4990-bd0e-9c263c655e14",
        "colab": {
          "base_uri": "https://localhost:8080/"
        }
      },
      "execution_count": 50,
      "outputs": [
        {
          "output_type": "stream",
          "name": "stdout",
          "text": [
            "Epoch 1/100\n",
            "217/217 - 4s - 18ms/step - accuracy: 0.9560 - loss: 0.2649 - val_accuracy: 0.9884 - val_loss: 0.0743\n",
            "Epoch 2/100\n",
            "217/217 - 2s - 11ms/step - accuracy: 0.9913 - loss: 0.0494 - val_accuracy: 0.9930 - val_loss: 0.0334\n",
            "Epoch 3/100\n",
            "217/217 - 2s - 9ms/step - accuracy: 0.9960 - loss: 0.0239 - val_accuracy: 0.9940 - val_loss: 0.0209\n",
            "Epoch 4/100\n",
            "217/217 - 2s - 9ms/step - accuracy: 0.9986 - loss: 0.0146 - val_accuracy: 0.9960 - val_loss: 0.0145\n",
            "Epoch 5/100\n",
            "217/217 - 3s - 12ms/step - accuracy: 0.9994 - loss: 0.0094 - val_accuracy: 0.9970 - val_loss: 0.0109\n",
            "Epoch 6/100\n",
            "217/217 - 4s - 21ms/step - accuracy: 0.9999 - loss: 0.0060 - val_accuracy: 0.9975 - val_loss: 0.0086\n",
            "Epoch 7/100\n",
            "217/217 - 2s - 11ms/step - accuracy: 0.9999 - loss: 0.0046 - val_accuracy: 0.9980 - val_loss: 0.0073\n",
            "Epoch 8/100\n",
            "217/217 - 2s - 9ms/step - accuracy: 1.0000 - loss: 0.0033 - val_accuracy: 0.9980 - val_loss: 0.0063\n",
            "Epoch 9/100\n",
            "217/217 - 3s - 14ms/step - accuracy: 1.0000 - loss: 0.0026 - val_accuracy: 0.9990 - val_loss: 0.0053\n",
            "Epoch 10/100\n",
            "217/217 - 2s - 11ms/step - accuracy: 1.0000 - loss: 0.0019 - val_accuracy: 0.9990 - val_loss: 0.0048\n",
            "Epoch 11/100\n",
            "217/217 - 2s - 9ms/step - accuracy: 1.0000 - loss: 0.0017 - val_accuracy: 0.9990 - val_loss: 0.0044\n",
            "Epoch 12/100\n",
            "217/217 - 3s - 12ms/step - accuracy: 1.0000 - loss: 0.0015 - val_accuracy: 0.9990 - val_loss: 0.0039\n",
            "Epoch 13/100\n",
            "217/217 - 2s - 11ms/step - accuracy: 1.0000 - loss: 0.0011 - val_accuracy: 0.9990 - val_loss: 0.0036\n",
            "Epoch 14/100\n",
            "217/217 - 3s - 12ms/step - accuracy: 1.0000 - loss: 8.7217e-04 - val_accuracy: 0.9990 - val_loss: 0.0034\n",
            "Epoch 15/100\n",
            "217/217 - 3s - 12ms/step - accuracy: 1.0000 - loss: 7.7695e-04 - val_accuracy: 0.9990 - val_loss: 0.0032\n",
            "Epoch 16/100\n",
            "217/217 - 2s - 9ms/step - accuracy: 1.0000 - loss: 6.2325e-04 - val_accuracy: 0.9990 - val_loss: 0.0030\n",
            "Epoch 17/100\n",
            "217/217 - 3s - 12ms/step - accuracy: 1.0000 - loss: 5.0193e-04 - val_accuracy: 0.9990 - val_loss: 0.0028\n",
            "Epoch 18/100\n",
            "217/217 - 2s - 9ms/step - accuracy: 1.0000 - loss: 4.9033e-04 - val_accuracy: 0.9990 - val_loss: 0.0025\n",
            "Epoch 19/100\n",
            "217/217 - 2s - 10ms/step - accuracy: 1.0000 - loss: 3.9451e-04 - val_accuracy: 0.9990 - val_loss: 0.0025\n",
            "Epoch 20/100\n",
            "217/217 - 3s - 15ms/step - accuracy: 1.0000 - loss: 3.2163e-04 - val_accuracy: 0.9990 - val_loss: 0.0023\n",
            "Epoch 21/100\n",
            "217/217 - 2s - 10ms/step - accuracy: 1.0000 - loss: 3.9577e-04 - val_accuracy: 0.9990 - val_loss: 0.0022\n",
            "Epoch 22/100\n",
            "217/217 - 2s - 11ms/step - accuracy: 1.0000 - loss: 3.0142e-04 - val_accuracy: 0.9990 - val_loss: 0.0022\n",
            "Epoch 23/100\n",
            "217/217 - 2s - 10ms/step - accuracy: 1.0000 - loss: 2.4227e-04 - val_accuracy: 0.9990 - val_loss: 0.0020\n",
            "Epoch 24/100\n",
            "217/217 - 2s - 11ms/step - accuracy: 1.0000 - loss: 2.2629e-04 - val_accuracy: 0.9990 - val_loss: 0.0018\n",
            "Epoch 25/100\n",
            "217/217 - 3s - 16ms/step - accuracy: 1.0000 - loss: 2.2806e-04 - val_accuracy: 0.9990 - val_loss: 0.0018\n",
            "Epoch 26/100\n",
            "217/217 - 4s - 20ms/step - accuracy: 1.0000 - loss: 1.6366e-04 - val_accuracy: 0.9990 - val_loss: 0.0016\n",
            "Epoch 27/100\n",
            "217/217 - 3s - 12ms/step - accuracy: 1.0000 - loss: 1.4836e-04 - val_accuracy: 0.9990 - val_loss: 0.0017\n",
            "Epoch 28/100\n",
            "217/217 - 3s - 12ms/step - accuracy: 1.0000 - loss: 1.5796e-04 - val_accuracy: 0.9990 - val_loss: 0.0016\n",
            "Epoch 29/100\n",
            "217/217 - 3s - 15ms/step - accuracy: 1.0000 - loss: 9.3401e-05 - val_accuracy: 0.9990 - val_loss: 0.0016\n",
            "Epoch 30/100\n",
            "217/217 - 2s - 10ms/step - accuracy: 1.0000 - loss: 9.8400e-05 - val_accuracy: 0.9990 - val_loss: 0.0014\n",
            "Epoch 31/100\n",
            "217/217 - 2s - 11ms/step - accuracy: 1.0000 - loss: 8.2161e-05 - val_accuracy: 0.9990 - val_loss: 0.0016\n",
            "Epoch 32/100\n",
            "217/217 - 2s - 9ms/step - accuracy: 1.0000 - loss: 7.7340e-05 - val_accuracy: 0.9990 - val_loss: 0.0013\n",
            "Epoch 33/100\n",
            "217/217 - 3s - 12ms/step - accuracy: 1.0000 - loss: 7.7744e-05 - val_accuracy: 1.0000 - val_loss: 0.0012\n",
            "Epoch 34/100\n",
            "217/217 - 3s - 15ms/step - accuracy: 1.0000 - loss: 6.7343e-05 - val_accuracy: 0.9990 - val_loss: 0.0013\n",
            "Epoch 35/100\n",
            "217/217 - 4s - 19ms/step - accuracy: 1.0000 - loss: 5.3157e-05 - val_accuracy: 0.9990 - val_loss: 0.0015\n"
          ]
        }
      ]
    },
    {
      "cell_type": "markdown",
      "source": [
        "# Evaluate the model"
      ],
      "metadata": {
        "id": "PGqkkByXLCYb"
      }
    },
    {
      "cell_type": "code",
      "source": [
        "loss, accuracy = model.evaluate(x_test, np.array(test_label), verbose=2)\n",
        "\n",
        "\n",
        "print(\"Loss: \", loss)\n",
        "print(\"Accuracy: \", accuracy)"
      ],
      "metadata": {
        "id": "Eb_saCM9LDtg",
        "outputId": "59839521-82df-4977-caf3-9bf374ec8c93",
        "colab": {
          "base_uri": "https://localhost:8080/"
        }
      },
      "execution_count": 51,
      "outputs": [
        {
          "output_type": "stream",
          "name": "stdout",
          "text": [
            "31/31 - 0s - 6ms/step - accuracy: 1.0000 - loss: 0.0028\n",
            "Loss:  0.0027931109070777893\n",
            "Accuracy:  1.0\n"
          ]
        }
      ]
    },
    {
      "cell_type": "code",
      "source": [
        "history.history.keys()"
      ],
      "metadata": {
        "id": "09YCA9onLi7W",
        "outputId": "1d63e05a-25f7-40b7-fef8-be12eaada205",
        "colab": {
          "base_uri": "https://localhost:8080/"
        }
      },
      "execution_count": 52,
      "outputs": [
        {
          "output_type": "execute_result",
          "data": {
            "text/plain": [
              "dict_keys(['accuracy', 'loss', 'val_accuracy', 'val_loss'])"
            ]
          },
          "metadata": {},
          "execution_count": 52
        }
      ]
    },
    {
      "cell_type": "code",
      "source": [
        "acc = history.history['accuracy']\n",
        "val_acc = history.history['val_accuracy']\n",
        "loss = history.history['loss']\n",
        "val_loss = history.history['val_loss']\n",
        "\n",
        "epochs = range(1, len(acc) + 1)\n",
        "\n",
        "# \"bo\" is for \"blue dot\"\n",
        "plt.plot(epochs, loss, 'bo', label='Training loss')\n",
        "# b is for \"solid blue line\"\n",
        "plt.plot(epochs, val_loss, 'b', label='Validation loss')\n",
        "plt.title('Training and validation loss')\n",
        "plt.xlabel('Epochs')\n",
        "plt.ylabel('Loss')\n",
        "plt.legend()\n",
        "\n",
        "plt.show()"
      ],
      "metadata": {
        "id": "3KhNyC3ALmEJ",
        "outputId": "a3a18da1-9022-486d-a37f-89a991515fa8",
        "colab": {
          "base_uri": "https://localhost:8080/",
          "height": 472
        }
      },
      "execution_count": 53,
      "outputs": [
        {
          "output_type": "display_data",
          "data": {
            "text/plain": [
              "<Figure size 640x480 with 1 Axes>"
            ],
            "image/png": "[encoded data removed]"
          },
          "metadata": {}
        }
      ]
    },
    {
      "cell_type": "code",
      "source": [
        "plt.plot(epochs, acc, 'bo', label='Training acc')\n",
        "plt.plot(epochs, val_acc, 'b', label='Validation acc')\n",
        "plt.title('Training and validation accuracy')\n",
        "plt.xlabel('Epochs')\n",
        "plt.ylabel('Accuracy')\n",
        "plt.legend(loc='lower right')\n",
        "\n",
        "plt.show()"
      ],
      "metadata": {
        "id": "rfu5Pt9iLnI1",
        "outputId": "7d4b3400-0394-410e-96c8-ba4e0d6a3416",
        "colab": {
          "base_uri": "https://localhost:8080/",
          "height": 472
        }
      },
      "execution_count": 54,
      "outputs": [
        {
          "output_type": "display_data",
          "data": {
            "text/plain": [
              "<Figure size 640x480 with 1 Axes>"
            ],
            "image/png": "[encoded data removed]"
          },
          "metadata": {}
        }
      ]
    },
    {
      "cell_type": "markdown",
      "source": [
        "# Save Model"
      ],
      "metadata": {
        "id": "vB209W1-L0FV"
      }
    },
    {
      "cell_type": "code",
      "source": [
        "# Save model and components\n",
        "model.save('Fake_News_Detector_model.h5')\n",
        "with open(\"vectorizer.pkl\", \"wb\") as f:\n",
        "    pickle.dump(vectorizer, f)\n",
        "with open(\"selector.pkl\", \"wb\") as f:\n",
        "    pickle.dump(selector, f)"
      ],
      "metadata": {
        "id": "4imFXAOljzF_",
        "colab": {
          "base_uri": "https://localhost:8080/"
        },
        "outputId": "ca05279d-faca-47a8-9ddb-96bbaa2c1ef0"
      },
      "execution_count": 55,
      "outputs": [
        {
          "output_type": "stream",
          "name": "stderr",
          "text": [
            "WARNING:absl:You are saving your model as an HDF5 file via `model.save()` or `keras.saving.save_model(model)`. This file format is considered legacy. We recommend using instead the native Keras format, e.g. `model.save('my_model.keras')` or `keras.saving.save_model(model, 'my_model.keras')`. \n"
          ]
        }
      ]
    },
    {
      "cell_type": "code",
      "source": [
        "def predict_fake_news(text):\n",
        "    with open(\"vectorizer.pkl\", \"rb\") as f:\n",
        "        loaded_vectorizer = pickle.load(f)\n",
        "    with open(\"selector.pkl\", \"rb\") as f:\n",
        "        loaded_selector = pickle.load(f)\n",
        "    model = tf.keras.models.load_model(\"Fake_News_Detector_model.h5\")\n",
        "\n",
        "    x_input = loaded_vectorizer.transform([text])\n",
        "    x_input = loaded_selector.transform(x_input).astype(\"float32\")\n",
        "    x_input = x_input.toarray()\n",
        "\n",
        "    pred = model.predict(x_input)[0][0]\n",
        "    label = \"Real News\" if pred >= 0.5 else \"Fake News\"\n",
        "    confidence = pred if pred >= 0.5 else 1 - pred\n",
        "    print(f\"\\nPrediction: {label} (Confidence: {confidence:.2f})\")\n",
        "\n",
        "user_article = input(\"\\nEnter a news article to classify:\\n\")\n",
        "predict_fake_news(user_article)\n"
      ],
      "metadata": {
        "id": "42Cu_zCZ5iLM",
        "colab": {
          "base_uri": "https://localhost:8080/"
        },
        "outputId": "b9932b84-e50a-4e97-c62b-b3d68735e068"
      },
      "execution_count": 56,
      "outputs": [
        {
          "name": "stdout",
          "output_type": "stream",
          "text": [
            "\n",
            "Enter a news article to classify:\n",
            "At least six people die in what Kyiv claims is largest drone attack since Moscow launched full-scale invasion in February 2022\n"
          ]
        },
        {
          "output_type": "stream",
          "name": "stderr",
          "text": [
            "WARNING:absl:Compiled the loaded model, but the compiled metrics have yet to be built. `model.compile_metrics` will be empty until you train or evaluate the model.\n"
          ]
        },
        {
          "output_type": "stream",
          "name": "stdout",
          "text": [
            "\u001b[1m1/1\u001b[0m \u001b[32m━━━━━━━━━━━━━━━━━━━━\u001b[0m\u001b[37m\u001b[0m \u001b[1m0s\u001b[0m 75ms/step\n",
            "\n",
            "Prediction: Fake News (Confidence: 0.59)\n"
          ]
        }
      ]
    },
    {
      "cell_type": "code",
      "source": [],
      "metadata": {
        "id": "40wnOOoQ4VwL"
      },
      "execution_count": 56,
      "outputs": []
    }
  ]
}