{
  "nbformat": 4,
  "nbformat_minor": 0,
  "metadata": {
    "colab": {
      "provenance": [],
      "collapsed_sections": [
        "b8opDVzM-rnx"
      ],
      "toc_visible": true
    },
    "kernelspec": {
      "name": "python3",
      "display_name": "Python 3"
    },
    "language_info": {
      "name": "python"
    }
  },
  "cells": [
    {
      "cell_type": "markdown",
      "source": [
        "# Fake News Detection\n",
        "\n"
      ],
      "metadata": {
        "id": "W5tAGYSZ4VMo"
      }
    },
    {
      "cell_type": "markdown",
      "source": [
        "In an era of rapid digital information spread distinguishing real from fake news is challenging. The Fake News Detection Dataset helps researchers and data scientists train models for accurate fake news detection."
      ],
      "metadata": {
        "id": "Wa4dBk6sXzRy"
      }
    },
    {
      "cell_type": "markdown",
      "source": [
        "# SetUp"
      ],
      "metadata": {
        "id": "XVZQl2K34ajh"
      }
    },
    {
      "cell_type": "code",
      "source": [
        "import matplotlib.pyplot as plt\n",
        "import os\n",
        "import re\n",
        "import shutil\n",
        "import string\n",
        "import tensorflow as tf\n",
        "import keras\n",
        "\n",
        "from tensorflow.keras import layers\n",
        "from tensorflow.keras import losses\n",
        "from tensorflow.keras.models import Sequential\n",
        "from tensorflow.keras.layers import Embedding, LSTM,GRU, Dense, Dropout\n",
        "from tensorflow.keras.callbacks import EarlyStopping\n"
      ],
      "metadata": {
        "id": "Cuv5sc07VhhF"
      },
      "execution_count": 1,
      "outputs": []
    },
    {
      "cell_type": "code",
      "source": [
        "AUTOTUNE = tf.data.AUTOTUNE\n",
        "batch_size = 32\n",
        "seed = 42"
      ],
      "metadata": {
        "id": "OB1DG8zLZHQG"
      },
      "execution_count": 2,
      "outputs": []
    },
    {
      "cell_type": "markdown",
      "source": [
        "# Load Data"
      ],
      "metadata": {
        "id": "HgWt7zlx5fHn"
      }
    },
    {
      "cell_type": "markdown",
      "source": [
        "```\n",
        "fake_and_real_news/\n",
        "...Fake/\n",
        "......news_article_1.txt\n",
        "......news_article_2.txt\n",
        "...Real/\n",
        "......news_article_1.txt\n",
        "......news_article_2.txt\n",
        "```\n",
        "\n"
      ],
      "metadata": {
        "id": "wQdIYMdAYR2e"
      }
    },
    {
      "cell_type": "code",
      "source": [
        "# First split: Train (70%) and Temp (30% for val & test)\n",
        "train_ds = tf.keras.utils.text_dataset_from_directory(\n",
        "    'fake_and_real_news1',\n",
        "    labels='inferred',\n",
        "    label_mode='binary',\n",
        "    class_names=['Fake', 'Real'],\n",
        "    batch_size=batch_size,\n",
        "    shuffle=True,\n",
        "    seed=seed,\n",
        "    validation_split=0.3,\n",
        "    subset='training'\n",
        ")\n",
        "\n",
        "raw_val_test_ds = tf.keras.utils.text_dataset_from_directory(\n",
        "    'fake_and_real_news1',\n",
        "    labels='inferred',\n",
        "    label_mode='binary',\n",
        "    class_names=['Fake', 'Real'],\n",
        "    batch_size=batch_size,\n",
        "    shuffle=True,\n",
        "    seed=seed,\n",
        "    validation_split=0.3,\n",
        "    subset='validation'\n",
        ")\n",
        "\n",
        "# Second split: Val (20%) and Test (10%)\n",
        "val_size = int(0.67 * len(raw_val_test_ds))  # 67% of 30% = 20%\n",
        "test_size = len(raw_val_test_ds) - val_size  # Remaining 10%\n",
        "\n",
        "val_ds = raw_val_test_ds.take(val_size)\n",
        "test_ds = raw_val_test_ds.skip(val_size)\n",
        "\n",
        "# Print dataset sizes\n",
        "print(f\"Train size: {len(train_ds)} batches\")\n",
        "print(f\"Validation size: {len(val_ds)} batches\")\n",
        "print(f\"Test size: {len(test_ds)} batches\")\n"
      ],
      "metadata": {
        "colab": {
          "base_uri": "https://localhost:8080/"
        },
        "id": "vDxePsETZEBv",
        "outputId": "671b0143-8c24-413c-e76b-8e9d01f402f5"
      },
      "execution_count": 3,
      "outputs": [
        {
          "output_type": "stream",
          "name": "stdout",
          "text": [
            "Found 9900 files belonging to 2 classes.\n",
            "Using 6930 files for training.\n",
            "Found 9900 files belonging to 2 classes.\n",
            "Using 2970 files for validation.\n",
            "Train size: 217 batches\n",
            "Validation size: 62 batches\n",
            "Test size: 31 batches\n"
          ]
        }
      ]
    },
    {
      "cell_type": "code",
      "source": [
        "# Now you should be able to use .take()\n",
        "for text_batch, label_batch in train_ds.take(1):\n",
        "  for i in range(3):\n",
        "    print(\"Article\", text_batch.numpy()[i])\n",
        "    print(\"Label\", label_batch.numpy()[i])"
      ],
      "metadata": {
        "colab": {
          "base_uri": "https://localhost:8080/"
        },
        "id": "xwnjzVQ8aZFp",
        "outputId": "80c85df1-7435-449d-f8c8-65dfc35cacb9"
      },
      "execution_count": 4,
      "outputs": [
        {
          "output_type": "stream",
          "name": "stdout",
          "text": [
            "Article b'White House says Trump has confidence in Secretary of State Tillerson LAS VEGAS (Reuters) - U.S. President Donald Trump retains confidence in Secretary of State Rex Tillerson, White House spokeswoman Sarah Sanders said on Wednesday. \\xe2\\x80\\x9cAs we\\xe2\\x80\\x99ve said many times before, if the president doesn\\xe2\\x80\\x99t have confidence in somebody, that person will not remain in that position,\\xe2\\x80\\x9d Sanders told reporters on Air Force One.  She said Trump and Tillerson had not spoken on Wednesday. \\tReal'\n",
            "Label [1.]\n",
            "Article b' Numbers Prove Trump A Liar: RECORD Job Growth Will Be The Legacy Of Obama Administration (DETAILS) Barack Obama has been accused again and again of ruining the economy but where s the proof? Oh wait, there is none because he s done the exact opposite of that. In fact, president Obama has broken records by creating jobs.According to the majority of Republicans, Obama has done just about nothing right. He gets zero credit for the good things he s done and all the credit for anything that goes slightly wrong. Well, that has to change. Obama has done everything he can for America and is still doing so. Obama is currently on a 78 month long streak of creating jobs. In those 78 months he s created over 15.1 MILLION jobs. That s more than any other president in history.On the off chance that a republican president had managed something like this, they would be receiving plenty of praise. In fact Jesse Lee tweeted a rather accurate remark on that:In alt universe where Romney won, these #s would be getting chiseled under his face on Mount Rushmore as we speak. https://t.co/7prryK5nPF  Jesse Lee (@jesseclee44) September 2, 2016It s ridiculous how poorly Obama has been treated since he s been in office. He s worked harder than president-elect Donald Trump ever will, and has made so much progress for this country. Yet all he has received is criticism and sarcastic remarks:  thanks Obama.  Well it s time for us to start saying thank you to Obama, and mean it.Featured Image via Getty Images\\tFake'\n",
            "Label [0.]\n",
            "Article b'McConnell: Border tax would likely not pass U.S. Senate - Bloomberg TV WASHINGTON (Reuters) - Any tax reform plan that includes a border adjustment tax would likely not pass the U.S. Senate, its Republican Majority Leader, Mitch McConnell, said in an interview with Bloomberg Television on Tuesday. McConnell added that any tax plan would also have to be revenue neutral. \\tReal'\n",
            "Label [1.]\n"
          ]
        }
      ]
    },
    {
      "cell_type": "code",
      "source": [
        "print(\"Label 0 corresponds to\", train_ds.class_names[0])\n",
        "print(\"Label 1 corresponds to\", train_ds.class_names[1])"
      ],
      "metadata": {
        "colab": {
          "base_uri": "https://localhost:8080/"
        },
        "id": "s67ZYLM4bHEO",
        "outputId": "b2cdfdcd-96cb-4aa0-d971-a2001412d79d"
      },
      "execution_count": 5,
      "outputs": [
        {
          "output_type": "stream",
          "name": "stdout",
          "text": [
            "Label 0 corresponds to Fake\n",
            "Label 1 corresponds to Real\n"
          ]
        }
      ]
    },
    {
      "cell_type": "markdown",
      "source": [
        "# Data Preprocessing"
      ],
      "metadata": {
        "id": "hQpExOv7cDY0"
      }
    },
    {
      "cell_type": "markdown",
      "source": [
        "standardize, tokenize, and vectorize the data using tf.keras.layers.TextVectorization layer.\n",
        "\n",
        "**Standardization** refers to preprocessing the text, typically to remove punctuation or HTML elements to simplify the dataset.\n",
        "\n",
        "**Tokenization** refers to splitting strings into tokens (for example, splitting a sentence into individual words, by splitting on whitespace).\n",
        "\n",
        "**Vectorization** refers to converting tokens into numbers so they can be fed into a neural network.\n",
        "\n",
        "the article contain various HTML tags like <br />. These tags will not be removed by the default standardizer in the TextVectorization layer (which converts text to lowercase and strips punctuation by default, but doesn't strip HTML). we will write a custom standardization function to remove the HTML.\n",
        "\n",
        "Note: To prevent training-testing skew (also known as training-serving skew), it is important to preprocess the data identically at train and test time."
      ],
      "metadata": {
        "id": "VTMoMcYocJoD"
      }
    },
    {
      "cell_type": "code",
      "source": [
        "def custom_standardization(input_data):\n",
        "  lowercase = tf.strings.lower(input_data)\n",
        "  stripped_html = tf.strings.regex_replace(lowercase, '<br />', ' ')\n",
        "  return tf.strings.regex_replace(stripped_html,\n",
        "                                  '[%s]' % re.escape(string.punctuation),\n",
        "                                  '')"
      ],
      "metadata": {
        "id": "jkGfkbVlb74I"
      },
      "execution_count": 6,
      "outputs": []
    },
    {
      "cell_type": "code",
      "source": [
        "max_words = 5000  # Vocabulary size\n",
        "max_len = 200  # Max length per article\n",
        "\n",
        "vectorize_layer = layers.TextVectorization(\n",
        "    standardize=custom_standardization,\n",
        "    max_tokens=max_words,\n",
        "    output_mode='int',\n",
        "    output_sequence_length=max_len)"
      ],
      "metadata": {
        "id": "OPGJ9VpOdBtf"
      },
      "execution_count": 7,
      "outputs": []
    },
    {
      "cell_type": "markdown",
      "source": [
        "calling adapt to fit the state of the preprocessing layer to the dataset to build an index of strings to integers.\n",
        "\n"
      ],
      "metadata": {
        "id": "PB-QSNSndNIA"
      }
    },
    {
      "cell_type": "code",
      "source": [
        "# Make a text-only dataset (without labels), then call adapt\n",
        "train_text = train_ds.map(lambda x, y: x)\n",
        "vectorize_layer.adapt(train_text)"
      ],
      "metadata": {
        "id": "quULkqqydRvW"
      },
      "execution_count": 8,
      "outputs": []
    },
    {
      "cell_type": "code",
      "source": [
        "def vectorize_text(text, label):\n",
        "  text = tf.expand_dims(text, -1)\n",
        "  return vectorize_layer(text), label"
      ],
      "metadata": {
        "id": "f1YTKYMmd3Qi"
      },
      "execution_count": 9,
      "outputs": []
    },
    {
      "cell_type": "code",
      "source": [
        "# retrieve a batch (of 32 reviews and labels) from the dataset\n",
        "text_batch, label_batch = next(iter(train_ds))\n",
        "first_review, first_label = text_batch[0], label_batch[0]\n",
        "print(\"Review\", first_review)\n",
        "print(\"Label\", train_ds.class_names[0])\n",
        "print(\"Vectorized review\", vectorize_text(first_review, first_label))"
      ],
      "metadata": {
        "colab": {
          "base_uri": "https://localhost:8080/"
        },
        "id": "0rLYLm5sd5yA",
        "outputId": "8c854d5e-c1ce-4e22-c49e-a11745be08a6"
      },
      "execution_count": 10,
      "outputs": [
        {
          "output_type": "stream",
          "name": "stdout",
          "text": [
            "Review tf.Tensor(b'U.S. lawmakers ask DOJ if terrorism law covers pipeline activists WASHINGTON (Reuters) - U.S. representatives from both parties asked the Department of Justice on Monday whether the domestic terrorism law would cover actions by protesters that shut oil pipelines last year, a move that could potentially increase political rhetoric against climate change activists.  Ken Buck, a Republican representative from Colorado, said in a letter to Attorney General Jeff Sessions, that damaging pipeline infrastructure poses risks to humans and the environment.  The letter, a copy of which was seen by Reuters, said \\xe2\\x80\\x9coperation of pipeline facilities by unqualified personnel could result in a rupture - the consequences of which would be devastating.\\xe2\\x80\\x9d It was signed by 84 representatives, including at least two Democrats, Gene Green and Henry Cuellar, both of Texas. The move by the lawmakers is a sign of increasing tensions between activists protesting projects including Energy Transfer Partners LP\\xe2\\x80\\x99s Dakota Access Pipeline and the administration of President Donald Trump, which is seeking to make the country \\xe2\\x80\\x9cenergy dominant\\xe2\\x80\\x9d by boosting domestic oil, gas, and coal output.  Last year activists in several states used bolt cutters to break fences and twisted shut valves on several cross border pipelines that sent about 2.8 million barrels per day of crude to the United States from Canada, equal to roughly 15 percent of daily U.S. consumption.   The letter asks Sessions whether existing federal laws arm the Justice Department to prosecute criminal activity against energy infrastructure. It also asks whether attacks on energy infrastructure that pose a threat to human life fall within the department\\xe2\\x80\\x99s understanding of domestic terrorism law. The Department of Justice acknowledged receiving the letter and is reviewing it, a spokesman said.      A terrorism expert said it was ironic the lawmakers referred to the law, which defines \\xe2\\x80\\x9cdomestic terrorism\\xe2\\x80\\x9d as acts dangerous to human life intended to intimidate civilians, but does not offer a way to prosecute anyone under it. David Schanzer, a homeland security and terrorism expert at Duke University, said the lawmakers\\xe2\\x80\\x99 request of Sessions \\xe2\\x80\\x9cwon\\xe2\\x80\\x99t have any legal ramifications, but possibly could be used for rhetorical value.\\xe2\\x80\\x9d  A Minnesota court is considering charges against several protesters suspected of turning the valves on the pipelines last year. District Court Judge Robert Tiffany has allowed the defendants to present a \\xe2\\x80\\x9cnecessity defense.\\xe2\\x80\\x9d That means they will admit shutting the valves, but may call witnesses, such as scientific experts, to offer testimony about the urgency of what they say is a climate crisis, activists said.  \\tReal', shape=(), dtype=string)\n",
            "Label Fake\n",
            "Vectorized review (<tf.Tensor: shape=(1, 200), dtype=int64, numpy=\n",
            "array([[  26,  264,  885, 4233,   51, 1376,  140, 4076, 3179, 2269,   87,\n",
            "          82,   26,  344,   28,  213, 1340,  186,    2,  164,    5,  279,\n",
            "          10,  253,  203,    2, 1441, 1376,  140,   34, 1017,  766,   22,\n",
            "        1262,    8, 1197, 1002,    1,  116,  137,    6,  368,    8,   81,\n",
            "        1650,  809,  206, 1522,  110,  442,  297, 2269,    1,    1,    6,\n",
            "          58,  507,   28, 3585,   16,    7,    6,  401,    3,  314,  229,\n",
            "         746,  362,    8, 2574, 3179, 1185,    1, 2996,    3,    1,    4,\n",
            "           2, 1997,    2,  401,    6, 3937,    5,   56,   19,  436,   22,\n",
            "          82,   16,    1,    5, 3179, 3850,   22, 4665, 2607,   81, 1156,\n",
            "           7,    6,    1,    2, 2226,    5,   56,   34,   24,    1,   15,\n",
            "          19,  737,   22,    1,  344,  169,   31,  352,  126,  139,    1,\n",
            "        1402,    4,    1,    1,  213,    5,  583,    2,  368,   22,    2,\n",
            "         264,   11,    6,  784,    5, 2722, 1744,  193, 2269, 3606, 2051,\n",
            "         169,  630,    1, 1852,    1, 3330,  754, 3179,    4,    2,  104,\n",
            "           5,   32,   43,    9,   56,   11,  879,    3,  123,    2,  157,\n",
            "           1,    1,   22,    1, 1441, 1002, 1074,    4, 1282,    1,  116,\n",
            "         137, 2269,    7,  338,   79,  343,    1,    1,    3, 1297,    1,\n",
            "           4,    1, 1197,    1,   10,  338, 3809,  525,    1,    8,  687,\n",
            "          37,  967]])>, <tf.Tensor: shape=(1,), dtype=float32, numpy=array([1.], dtype=float32)>)\n"
          ]
        }
      ]
    },
    {
      "cell_type": "code",
      "source": [
        "print(\"1287 ---> \",vectorize_layer.get_vocabulary()[1287])\n",
        "print(\" 313 ---> \",vectorize_layer.get_vocabulary()[313])\n",
        "print('Vocabulary size: {}'.format(len(vectorize_layer.get_vocabulary())))"
      ],
      "metadata": {
        "colab": {
          "base_uri": "https://localhost:8080/"
        },
        "id": "A8G1h_4beMyD",
        "outputId": "9c75b588-6767-402f-e6dd-819e20196895"
      },
      "execution_count": 11,
      "outputs": [
        {
          "output_type": "stream",
          "name": "stdout",
          "text": [
            "1287 --->  mind\n",
            " 313 --->  executive\n",
            "Vocabulary size: 5000\n"
          ]
        }
      ]
    },
    {
      "cell_type": "code",
      "source": [
        "train_ds = train_ds.map(vectorize_text)\n",
        "val_ds = val_ds.map(vectorize_text)\n",
        "test_ds = test_ds.map(vectorize_text)"
      ],
      "metadata": {
        "id": "4M4hjkG3e_aD"
      },
      "execution_count": 12,
      "outputs": []
    },
    {
      "cell_type": "markdown",
      "source": [
        "# Configure the dataset for performance\n",
        "These are two important methods you should use when loading data to make sure that I/O does not become blocking.\n",
        "\n",
        "**.cache()** keeps data in memory after it's loaded off disk.\n",
        "\n",
        "**.prefetch()** overlaps data preprocessing and model execution while training."
      ],
      "metadata": {
        "id": "qnjd_pZEfOT0"
      }
    },
    {
      "cell_type": "code",
      "source": [
        "AUTOTUNE = tf.data.AUTOTUNE\n",
        "\n",
        "train_ds = train_ds.cache().prefetch(buffer_size=AUTOTUNE)\n",
        "val_ds = val_ds.cache().prefetch(buffer_size=AUTOTUNE)"
      ],
      "metadata": {
        "id": "PlgNw7wKfGct"
      },
      "execution_count": 13,
      "outputs": []
    },
    {
      "cell_type": "markdown",
      "source": [
        "# Create the model"
      ],
      "metadata": {
        "id": "YWMQFWgmfZk0"
      }
    },
    {
      "cell_type": "code",
      "source": [
        "embedding_dim = 16"
      ],
      "metadata": {
        "id": "iX9S6S7qfW6D"
      },
      "execution_count": 14,
      "outputs": []
    },
    {
      "cell_type": "code",
      "source": [
        "model = tf.keras.Sequential([\n",
        "  layers.Embedding(max_words, 128),\n",
        "  layers.GlobalAveragePooling1D(),\n",
        "  layers.Dropout(0.2),\n",
        "  layers.Dense(1, activation='sigmoid')])\n",
        "\n",
        "model.summary()\n"
      ],
      "metadata": {
        "colab": {
          "base_uri": "https://localhost:8080/",
          "height": 273
        },
        "id": "TPeC5xocfd1o",
        "outputId": "b12d40e6-4f77-49c7-8e68-3775a8442277"
      },
      "execution_count": 15,
      "outputs": [
        {
          "output_type": "display_data",
          "data": {
            "text/plain": [
              "\u001b[1mModel: \"sequential\"\u001b[0m\n"
            ],
            "text/html": [
              "<pre style=\"white-space:pre;overflow-x:auto;line-height:normal;font-family:Menlo,'DejaVu Sans Mono',consolas,'Courier New',monospace\"><span style=\"font-weight: bold\">Model: \"sequential\"</span>\n",
              "</pre>\n"
            ]
          },
          "metadata": {}
        },
        {
          "output_type": "display_data",
          "data": {
            "text/plain": [
              "┏━━━━━━━━━━━━━━━━━━━━━━━━━━━━━━━━━━━━━━┳━━━━━━━━━━━━━━━━━━━━━━━━━━━━━┳━━━━━━━━━━━━━━━━━┓\n",
              "┃\u001b[1m \u001b[0m\u001b[1mLayer (type)                        \u001b[0m\u001b[1m \u001b[0m┃\u001b[1m \u001b[0m\u001b[1mOutput Shape               \u001b[0m\u001b[1m \u001b[0m┃\u001b[1m \u001b[0m\u001b[1m        Param #\u001b[0m\u001b[1m \u001b[0m┃\n",
              "┡━━━━━━━━━━━━━━━━━━━━━━━━━━━━━━━━━━━━━━╇━━━━━━━━━━━━━━━━━━━━━━━━━━━━━╇━━━━━━━━━━━━━━━━━┩\n",
              "│ embedding (\u001b[38;5;33mEmbedding\u001b[0m)                │ ?                           │     \u001b[38;5;34m0\u001b[0m (unbuilt) │\n",
              "├──────────────────────────────────────┼─────────────────────────────┼─────────────────┤\n",
              "│ global_average_pooling1d             │ ?                           │               \u001b[38;5;34m0\u001b[0m │\n",
              "│ (\u001b[38;5;33mGlobalAveragePooling1D\u001b[0m)             │                             │                 │\n",
              "├──────────────────────────────────────┼─────────────────────────────┼─────────────────┤\n",
              "│ dropout (\u001b[38;5;33mDropout\u001b[0m)                    │ ?                           │               \u001b[38;5;34m0\u001b[0m │\n",
              "├──────────────────────────────────────┼─────────────────────────────┼─────────────────┤\n",
              "│ dense (\u001b[38;5;33mDense\u001b[0m)                        │ ?                           │     \u001b[38;5;34m0\u001b[0m (unbuilt) │\n",
              "└──────────────────────────────────────┴─────────────────────────────┴─────────────────┘\n"
            ],
            "text/html": [
              "<pre style=\"white-space:pre;overflow-x:auto;line-height:normal;font-family:Menlo,'DejaVu Sans Mono',consolas,'Courier New',monospace\">┏━━━━━━━━━━━━━━━━━━━━━━━━━━━━━━━━━━━━━━┳━━━━━━━━━━━━━━━━━━━━━━━━━━━━━┳━━━━━━━━━━━━━━━━━┓\n",
              "┃<span style=\"font-weight: bold\"> Layer (type)                         </span>┃<span style=\"font-weight: bold\"> Output Shape                </span>┃<span style=\"font-weight: bold\">         Param # </span>┃\n",
              "┡━━━━━━━━━━━━━━━━━━━━━━━━━━━━━━━━━━━━━━╇━━━━━━━━━━━━━━━━━━━━━━━━━━━━━╇━━━━━━━━━━━━━━━━━┩\n",
              "│ embedding (<span style=\"color: #0087ff; text-decoration-color: #0087ff\">Embedding</span>)                │ ?                           │     <span style=\"color: #00af00; text-decoration-color: #00af00\">0</span> (unbuilt) │\n",
              "├──────────────────────────────────────┼─────────────────────────────┼─────────────────┤\n",
              "│ global_average_pooling1d             │ ?                           │               <span style=\"color: #00af00; text-decoration-color: #00af00\">0</span> │\n",
              "│ (<span style=\"color: #0087ff; text-decoration-color: #0087ff\">GlobalAveragePooling1D</span>)             │                             │                 │\n",
              "├──────────────────────────────────────┼─────────────────────────────┼─────────────────┤\n",
              "│ dropout (<span style=\"color: #0087ff; text-decoration-color: #0087ff\">Dropout</span>)                    │ ?                           │               <span style=\"color: #00af00; text-decoration-color: #00af00\">0</span> │\n",
              "├──────────────────────────────────────┼─────────────────────────────┼─────────────────┤\n",
              "│ dense (<span style=\"color: #0087ff; text-decoration-color: #0087ff\">Dense</span>)                        │ ?                           │     <span style=\"color: #00af00; text-decoration-color: #00af00\">0</span> (unbuilt) │\n",
              "└──────────────────────────────────────┴─────────────────────────────┴─────────────────┘\n",
              "</pre>\n"
            ]
          },
          "metadata": {}
        },
        {
          "output_type": "display_data",
          "data": {
            "text/plain": [
              "\u001b[1m Total params: \u001b[0m\u001b[38;5;34m0\u001b[0m (0.00 B)\n"
            ],
            "text/html": [
              "<pre style=\"white-space:pre;overflow-x:auto;line-height:normal;font-family:Menlo,'DejaVu Sans Mono',consolas,'Courier New',monospace\"><span style=\"font-weight: bold\"> Total params: </span><span style=\"color: #00af00; text-decoration-color: #00af00\">0</span> (0.00 B)\n",
              "</pre>\n"
            ]
          },
          "metadata": {}
        },
        {
          "output_type": "display_data",
          "data": {
            "text/plain": [
              "\u001b[1m Trainable params: \u001b[0m\u001b[38;5;34m0\u001b[0m (0.00 B)\n"
            ],
            "text/html": [
              "<pre style=\"white-space:pre;overflow-x:auto;line-height:normal;font-family:Menlo,'DejaVu Sans Mono',consolas,'Courier New',monospace\"><span style=\"font-weight: bold\"> Trainable params: </span><span style=\"color: #00af00; text-decoration-color: #00af00\">0</span> (0.00 B)\n",
              "</pre>\n"
            ]
          },
          "metadata": {}
        },
        {
          "output_type": "display_data",
          "data": {
            "text/plain": [
              "\u001b[1m Non-trainable params: \u001b[0m\u001b[38;5;34m0\u001b[0m (0.00 B)\n"
            ],
            "text/html": [
              "<pre style=\"white-space:pre;overflow-x:auto;line-height:normal;font-family:Menlo,'DejaVu Sans Mono',consolas,'Courier New',monospace\"><span style=\"font-weight: bold\"> Non-trainable params: </span><span style=\"color: #00af00; text-decoration-color: #00af00\">0</span> (0.00 B)\n",
              "</pre>\n"
            ]
          },
          "metadata": {}
        }
      ]
    },
    {
      "cell_type": "markdown",
      "source": [
        "# Loss function and optimizer"
      ],
      "metadata": {
        "id": "oRNSkLeLfmPT"
      }
    },
    {
      "cell_type": "code",
      "source": [
        "model.compile(loss=losses.BinaryCrossentropy(),\n",
        "              optimizer='adam',\n",
        "              metrics=[tf.metrics.BinaryAccuracy(threshold=0.5)])"
      ],
      "metadata": {
        "id": "pPcc2ZR2ffjh"
      },
      "execution_count": 16,
      "outputs": []
    },
    {
      "cell_type": "markdown",
      "source": [
        "# Train the model"
      ],
      "metadata": {
        "id": "_mBPbklMfr_q"
      }
    },
    {
      "cell_type": "code",
      "source": [
        "# Early stopping to prevent overfitting\n",
        "early_stopping = EarlyStopping(monitor=\"val_loss\", patience=3, restore_best_weights=True)\n",
        "\n",
        "epochs = 10\n",
        "history = model.fit(\n",
        "    train_ds,\n",
        "    validation_data=val_ds,\n",
        "    epochs=epochs,\n",
        "    batch_size=batch_size,\n",
        "    callbacks=[early_stopping])"
      ],
      "metadata": {
        "colab": {
          "base_uri": "https://localhost:8080/"
        },
        "id": "4q1MWdm9fotb",
        "outputId": "04a3fa67-de2d-4b25-e370-3e34f921af51"
      },
      "execution_count": 17,
      "outputs": [
        {
          "output_type": "stream",
          "name": "stdout",
          "text": [
            "Epoch 1/10\n",
            "\u001b[1m217/217\u001b[0m \u001b[32m━━━━━━━━━━━━━━━━━━━━\u001b[0m\u001b[37m\u001b[0m \u001b[1m5s\u001b[0m 18ms/step - binary_accuracy: 0.7681 - loss: 0.4751 - val_binary_accuracy: 0.9819 - val_loss: 0.1402\n",
            "Epoch 2/10\n",
            "\u001b[1m217/217\u001b[0m \u001b[32m━━━━━━━━━━━━━━━━━━━━\u001b[0m\u001b[37m\u001b[0m \u001b[1m2s\u001b[0m 11ms/step - binary_accuracy: 0.9875 - loss: 0.1039 - val_binary_accuracy: 0.9874 - val_loss: 0.0609\n",
            "Epoch 3/10\n",
            "\u001b[1m217/217\u001b[0m \u001b[32m━━━━━━━━━━━━━━━━━━━━\u001b[0m\u001b[37m\u001b[0m \u001b[1m3s\u001b[0m 15ms/step - binary_accuracy: 0.9937 - loss: 0.0447 - val_binary_accuracy: 0.9929 - val_loss: 0.0387\n",
            "Epoch 4/10\n",
            "\u001b[1m217/217\u001b[0m \u001b[32m━━━━━━━━━━━━━━━━━━━━\u001b[0m\u001b[37m\u001b[0m \u001b[1m4s\u001b[0m 12ms/step - binary_accuracy: 0.9965 - loss: 0.0259 - val_binary_accuracy: 0.9929 - val_loss: 0.0284\n",
            "Epoch 5/10\n",
            "\u001b[1m217/217\u001b[0m \u001b[32m━━━━━━━━━━━━━━━━━━━━\u001b[0m\u001b[37m\u001b[0m \u001b[1m3s\u001b[0m 12ms/step - binary_accuracy: 0.9976 - loss: 0.0172 - val_binary_accuracy: 0.9950 - val_loss: 0.0227\n",
            "Epoch 6/10\n",
            "\u001b[1m217/217\u001b[0m \u001b[32m━━━━━━━━━━━━━━━━━━━━\u001b[0m\u001b[37m\u001b[0m \u001b[1m3s\u001b[0m 12ms/step - binary_accuracy: 0.9989 - loss: 0.0120 - val_binary_accuracy: 0.9955 - val_loss: 0.0192\n",
            "Epoch 7/10\n",
            "\u001b[1m217/217\u001b[0m \u001b[32m━━━━━━━━━━━━━━━━━━━━\u001b[0m\u001b[37m\u001b[0m \u001b[1m3s\u001b[0m 15ms/step - binary_accuracy: 0.9995 - loss: 0.0084 - val_binary_accuracy: 0.9960 - val_loss: 0.0170\n",
            "Epoch 8/10\n",
            "\u001b[1m217/217\u001b[0m \u001b[32m━━━━━━━━━━━━━━━━━━━━\u001b[0m\u001b[37m\u001b[0m \u001b[1m4s\u001b[0m 11ms/step - binary_accuracy: 0.9997 - loss: 0.0063 - val_binary_accuracy: 0.9965 - val_loss: 0.0154\n",
            "Epoch 9/10\n",
            "\u001b[1m217/217\u001b[0m \u001b[32m━━━━━━━━━━━━━━━━━━━━\u001b[0m\u001b[37m\u001b[0m \u001b[1m3s\u001b[0m 12ms/step - binary_accuracy: 0.9997 - loss: 0.0050 - val_binary_accuracy: 0.9965 - val_loss: 0.0143\n",
            "Epoch 10/10\n",
            "\u001b[1m217/217\u001b[0m \u001b[32m━━━━━━━━━━━━━━━━━━━━\u001b[0m\u001b[37m\u001b[0m \u001b[1m2s\u001b[0m 11ms/step - binary_accuracy: 0.9997 - loss: 0.0038 - val_binary_accuracy: 0.9965 - val_loss: 0.0135\n"
          ]
        }
      ]
    },
    {
      "cell_type": "markdown",
      "source": [
        "# Evaluate the model"
      ],
      "metadata": {
        "id": "bI8BXZPUfyFG"
      }
    },
    {
      "cell_type": "code",
      "source": [
        "loss, accuracy = model.evaluate(test_ds)\n",
        "\n",
        "print(\"Loss: \", loss)\n",
        "print(\"Accuracy: \", accuracy)"
      ],
      "metadata": {
        "colab": {
          "base_uri": "https://localhost:8080/"
        },
        "id": "4DPqblHzfy9r",
        "outputId": "d8fb2ae1-dcb0-4028-b324-c4d7f55fcc93"
      },
      "execution_count": 18,
      "outputs": [
        {
          "output_type": "stream",
          "name": "stdout",
          "text": [
            "\u001b[1m31/31\u001b[0m \u001b[32m━━━━━━━━━━━━━━━━━━━━\u001b[0m\u001b[37m\u001b[0m \u001b[1m0s\u001b[0m 7ms/step - binary_accuracy: 0.9948 - loss: 0.0197\n",
            "Loss:  0.015790168195962906\n",
            "Accuracy:  0.9949290156364441\n"
          ]
        }
      ]
    },
    {
      "cell_type": "markdown",
      "source": [
        "# Create a plot of accuracy and loss over time\n",
        "model.fit() returns a History object that contains a dictionary with everything that happened during training:"
      ],
      "metadata": {
        "id": "2pzFiPuchO5u"
      }
    },
    {
      "cell_type": "code",
      "source": [
        "history_dict = history.history\n",
        "history_dict.keys()"
      ],
      "metadata": {
        "colab": {
          "base_uri": "https://localhost:8080/"
        },
        "id": "-acz95_IhT2N",
        "outputId": "21807078-8791-484a-c251-a10f3e4a7503"
      },
      "execution_count": 19,
      "outputs": [
        {
          "output_type": "execute_result",
          "data": {
            "text/plain": [
              "dict_keys(['binary_accuracy', 'loss', 'val_binary_accuracy', 'val_loss'])"
            ]
          },
          "metadata": {},
          "execution_count": 19
        }
      ]
    },
    {
      "cell_type": "code",
      "source": [
        "acc = history_dict['binary_accuracy']\n",
        "val_acc = history_dict['val_binary_accuracy']\n",
        "loss = history_dict['loss']\n",
        "val_loss = history_dict['val_loss']\n",
        "\n",
        "epochs = range(1, len(acc) + 1)\n",
        "\n",
        "# \"bo\" is for \"blue dot\"\n",
        "plt.plot(epochs, loss, 'bo', label='Training loss')\n",
        "# b is for \"solid blue line\"\n",
        "plt.plot(epochs, val_loss, 'b', label='Validation loss')\n",
        "plt.title('Training and validation loss')\n",
        "plt.xlabel('Epochs')\n",
        "plt.ylabel('Loss')\n",
        "plt.legend()\n",
        "\n",
        "plt.show()"
      ],
      "metadata": {
        "colab": {
          "base_uri": "https://localhost:8080/",
          "height": 472
        },
        "id": "svu9XELNhYM3",
        "outputId": "401e0941-e3cc-4dbd-fa50-4fc6cf0c0c23"
      },
      "execution_count": 20,
      "outputs": [
        {
          "output_type": "display_data",
          "data": {
            "text/plain": [
              "<Figure size 640x480 with 1 Axes>"
            ],
            "image/png": "[encoded data removed]"
          },
          "metadata": {}
        }
      ]
    },
    {
      "cell_type": "code",
      "source": [
        "plt.plot(epochs, acc, 'bo', label='Training acc')\n",
        "plt.plot(epochs, val_acc, 'b', label='Validation acc')\n",
        "plt.title('Training and validation accuracy')\n",
        "plt.xlabel('Epochs')\n",
        "plt.ylabel('Accuracy')\n",
        "plt.legend(loc='lower right')\n",
        "\n",
        "plt.show()"
      ],
      "metadata": {
        "colab": {
          "base_uri": "https://localhost:8080/",
          "height": 472
        },
        "id": "p3xUQ13ehd_O",
        "outputId": "c03083b9-022a-456e-cf53-db588c95a085"
      },
      "execution_count": 21,
      "outputs": [
        {
          "output_type": "display_data",
          "data": {
            "text/plain": [
              "<Figure size 640x480 with 1 Axes>"
            ],
            "image/png": "[encoded data removed]"
          },
          "metadata": {}
        }
      ]
    },
    {
      "cell_type": "markdown",
      "source": [
        "# Export the model"
      ],
      "metadata": {
        "id": "a4npa9H-i5Fw"
      }
    },
    {
      "cell_type": "code",
      "source": [
        "export_model = tf.keras.Sequential([\n",
        "  vectorize_layer,\n",
        "  model,\n",
        "  layers.Activation('sigmoid')\n",
        "])\n",
        "\n",
        "\n",
        "\n",
        "export_model.compile(\n",
        "    loss=losses.BinaryCrossentropy(from_logits=False), optimizer=\"adam\", metrics=['accuracy']\n",
        ")\n",
        "\n",
        "# Test it with `raw_val_test_ds`, which yields raw strings\n",
        "raw_test_ds = raw_val_test_ds.skip(val_size)\n",
        "metrics = export_model.evaluate(raw_test_ds, return_dict=True)\n",
        "print(metrics)"
      ],
      "metadata": {
        "colab": {
          "base_uri": "https://localhost:8080/"
        },
        "id": "tgGn_zwhi4wd",
        "outputId": "d9a5f0fa-fca7-4a90-b045-a4af6abe2296"
      },
      "execution_count": 22,
      "outputs": [
        {
          "output_type": "stream",
          "name": "stdout",
          "text": [
            "\u001b[1m31/31\u001b[0m \u001b[32m━━━━━━━━━━━━━━━━━━━━\u001b[0m\u001b[37m\u001b[0m \u001b[1m1s\u001b[0m 11ms/step - accuracy: 0.5421 - loss: 0.4989\n",
            "{'accuracy': 0.5496957302093506, 'loss': 0.49974071979522705}\n"
          ]
        }
      ]
    },
    {
      "cell_type": "markdown",
      "source": [
        "# Inference on new data\n"
      ],
      "metadata": {
        "id": "rKEALT4AjROy"
      }
    },
    {
      "cell_type": "code",
      "source": [
        "examples = tf.constant([\n",
        "  \"Mumbai Court orders corruption investigation FIR against Ex-SEBI chief Madhabi Puri Buch\",\n",
        "  \"U.K., France will work with Ukraine to end war and present plan to Trump\"])\n",
        "\n",
        "export_model.predict(examples)"
      ],
      "metadata": {
        "colab": {
          "base_uri": "https://localhost:8080/"
        },
        "id": "agJtQN5YjAat",
        "outputId": "cbdce9c6-d1c5-42d7-d481-3552b93359c1"
      },
      "execution_count": 23,
      "outputs": [
        {
          "output_type": "stream",
          "name": "stdout",
          "text": [
            "\u001b[1m1/1\u001b[0m \u001b[32m━━━━━━━━━━━━━━━━━━━━\u001b[0m\u001b[37m\u001b[0m \u001b[1m0s\u001b[0m 239ms/step\n"
          ]
        },
        {
          "output_type": "execute_result",
          "data": {
            "text/plain": [
              "array([[0.72941136],\n",
              "       [0.7288955 ]], dtype=float32)"
            ]
          },
          "metadata": {},
          "execution_count": 23
        }
      ]
    },
    {
      "cell_type": "code",
      "source": [],
      "metadata": {
        "id": "4imFXAOljzF_"
      },
      "execution_count": 23,
      "outputs": []
    }
  ]
}