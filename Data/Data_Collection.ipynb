{
  "nbformat": 4,
  "nbformat_minor": 0,
  "metadata": {
    "colab": {
      "provenance": []
    },
    "kernelspec": {
      "name": "python3",
      "display_name": "Python 3"
    },
    "language_info": {
      "name": "python"
    }
  },
  "cells": [
    {
      "cell_type": "markdown",
      "source": [
        "# Import package"
      ],
      "metadata": {
        "id": "AcHqjIwRI3Sl"
      }
    },
    {
      "cell_type": "code",
      "source": [
        "import pandas as pd\n",
        "import os\n",
        "import glob\n",
        "import shutil"
      ],
      "metadata": {
        "id": "iISBbonPI6zp"
      },
      "execution_count": 6,
      "outputs": []
    },
    {
      "cell_type": "code",
      "source": [
        "# Input CSV folder\n",
        "csv_folder = \"csv_files\"  # Change this to your CSV folder path\n",
        "output_base_folder = \"fake_and_real_news\"  # Base folder for text files"
      ],
      "metadata": {
        "id": "WoVQ-WGmI_DG"
      },
      "execution_count": 7,
      "outputs": []
    },
    {
      "cell_type": "code",
      "execution_count": 8,
      "metadata": {
        "colab": {
          "base_uri": "https://localhost:8080/"
        },
        "id": "ycK72h_tIuYr",
        "outputId": "46948f0a-3718-44a1-d085-84251abcbebf"
      },
      "outputs": [
        {
          "output_type": "stream",
          "name": "stdout",
          "text": [
            "Conversion complete! Check 'fake_and_real_news.zip' for the zipped label-based directories.\n"
          ]
        }
      ],
      "source": [
        "# Ensure the output base folder exists\n",
        "os.makedirs(output_base_folder, exist_ok=True)\n",
        "\n",
        "# Get all CSV files in the folder\n",
        "csv_files = glob.glob(f'/content/fake_and_real_news.csv')\n",
        "\n",
        "for csv_file in csv_files:\n",
        "    # Read CSV into DataFrame\n",
        "    df = pd.read_csv(csv_file)\n",
        "\n",
        "    # Check if 'label' column exists\n",
        "    if \"label\" not in df.columns:\n",
        "        print(f\"Skipping {csv_file} - No 'label' column found.\")\n",
        "        continue\n",
        "\n",
        "    # Loop through each row and save as a text file\n",
        "    for idx, row in df.iterrows():\n",
        "        label = str(row[\"label\"]).strip()  # Get label and convert to string\n",
        "        label_folder = os.path.join(output_base_folder, label)  # Create label-based folder\n",
        "\n",
        "        # Ensure the label folder exists\n",
        "        os.makedirs(label_folder, exist_ok=True)\n",
        "\n",
        "        # Convert row to tab-separated text\n",
        "        content = \"\\t\".join(map(str, row.values))\n",
        "\n",
        "        # Generate filename\n",
        "        filename = f\"news_article_{idx+1}.txt\"\n",
        "        output_path = os.path.join(label_folder, filename)\n",
        "\n",
        "        # Write to text file\n",
        "        with open(output_path, \"w\", encoding=\"utf-8\") as file:\n",
        "            file.write(content)\n",
        "\n",
        "# Create a ZIP file of the output folder\n",
        "shutil.make_archive(output_base_folder, 'zip', output_base_folder)\n",
        "\n",
        "print(f\"Conversion complete! Check '{output_base_folder}.zip' for the zipped label-based directories.\")"
      ]
    }
  ]
}